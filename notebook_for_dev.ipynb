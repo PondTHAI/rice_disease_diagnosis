{
  "nbformat": 4,
  "nbformat_minor": 0,
  "metadata": {
    "colab": {
      "provenance": []
    },
    "kernelspec": {
      "name": "python3",
      "display_name": "Python 3"
    },
    "language_info": {
      "name": "python"
    },
    "widgets": {
      "application/vnd.jupyter.widget-state+json": {
        "fa83ecd7a4ce4a1fa8659f73bd6220b5": {
          "model_module": "@jupyter-widgets/controls",
          "model_name": "FileUploadModel",
          "model_module_version": "1.5.0",
          "state": {
            "_counter": 1,
            "_dom_classes": [],
            "_model_module": "@jupyter-widgets/controls",
            "_model_module_version": "1.5.0",
            "_model_name": "FileUploadModel",
            "_view_count": null,
            "_view_module": "@jupyter-widgets/controls",
            "_view_module_version": "1.5.0",
            "_view_name": "FileUploadView",
            "accept": "image/*",
            "button_style": "",
            "data": [
              null
            ],
            "description": "Upload",
            "description_tooltip": null,
            "disabled": false,
            "error": "",
            "icon": "upload",
            "layout": "IPY_MODEL_76c34bca4b5a4a5b8886f2e10d16a4be",
            "metadata": [
              {
                "name": "Brownspot__0_493.jpg",
                "type": "image/jpeg",
                "size": 10417,
                "lastModified": 1741397429486
              }
            ],
            "multiple": false,
            "style": "IPY_MODEL_e54212c4823949f49131a9b96ab263ed"
          }
        },
        "76c34bca4b5a4a5b8886f2e10d16a4be": {
          "model_module": "@jupyter-widgets/base",
          "model_name": "LayoutModel",
          "model_module_version": "1.2.0",
          "state": {
            "_model_module": "@jupyter-widgets/base",
            "_model_module_version": "1.2.0",
            "_model_name": "LayoutModel",
            "_view_count": null,
            "_view_module": "@jupyter-widgets/base",
            "_view_module_version": "1.2.0",
            "_view_name": "LayoutView",
            "align_content": null,
            "align_items": null,
            "align_self": null,
            "border": null,
            "bottom": null,
            "display": null,
            "flex": null,
            "flex_flow": null,
            "grid_area": null,
            "grid_auto_columns": null,
            "grid_auto_flow": null,
            "grid_auto_rows": null,
            "grid_column": null,
            "grid_gap": null,
            "grid_row": null,
            "grid_template_areas": null,
            "grid_template_columns": null,
            "grid_template_rows": null,
            "height": null,
            "justify_content": null,
            "justify_items": null,
            "left": null,
            "margin": null,
            "max_height": null,
            "max_width": null,
            "min_height": null,
            "min_width": null,
            "object_fit": null,
            "object_position": null,
            "order": null,
            "overflow": null,
            "overflow_x": null,
            "overflow_y": null,
            "padding": null,
            "right": null,
            "top": null,
            "visibility": null,
            "width": null
          }
        },
        "e54212c4823949f49131a9b96ab263ed": {
          "model_module": "@jupyter-widgets/controls",
          "model_name": "ButtonStyleModel",
          "model_module_version": "1.5.0",
          "state": {
            "_model_module": "@jupyter-widgets/controls",
            "_model_module_version": "1.5.0",
            "_model_name": "ButtonStyleModel",
            "_view_count": null,
            "_view_module": "@jupyter-widgets/base",
            "_view_module_version": "1.2.0",
            "_view_name": "StyleView",
            "button_color": null,
            "font_weight": ""
          }
        },
        "28c710233647453db2ff89a99836a087": {
          "model_module": "@jupyter-widgets/controls",
          "model_name": "SelectMultipleModel",
          "model_module_version": "1.5.0",
          "state": {
            "_dom_classes": [],
            "_model_module": "@jupyter-widgets/controls",
            "_model_module_version": "1.5.0",
            "_model_name": "SelectMultipleModel",
            "_options_labels": [],
            "_view_count": null,
            "_view_module": "@jupyter-widgets/controls",
            "_view_module_version": "1.5.0",
            "_view_name": "SelectMultipleView",
            "description": "เลือกโรคสำหรับข้อมูลเพิ่มเติม:",
            "description_tooltip": null,
            "disabled": false,
            "index": [],
            "layout": "IPY_MODEL_ec64d3b4300c44df9d4f729c3f47d4ee",
            "rows": 4,
            "style": "IPY_MODEL_7240824538634a87a7ce26154e383552"
          }
        },
        "ec64d3b4300c44df9d4f729c3f47d4ee": {
          "model_module": "@jupyter-widgets/base",
          "model_name": "LayoutModel",
          "model_module_version": "1.2.0",
          "state": {
            "_model_module": "@jupyter-widgets/base",
            "_model_module_version": "1.2.0",
            "_model_name": "LayoutModel",
            "_view_count": null,
            "_view_module": "@jupyter-widgets/base",
            "_view_module_version": "1.2.0",
            "_view_name": "LayoutView",
            "align_content": null,
            "align_items": null,
            "align_self": null,
            "border": null,
            "bottom": null,
            "display": null,
            "flex": null,
            "flex_flow": null,
            "grid_area": null,
            "grid_auto_columns": null,
            "grid_auto_flow": null,
            "grid_auto_rows": null,
            "grid_column": null,
            "grid_gap": null,
            "grid_row": null,
            "grid_template_areas": null,
            "grid_template_columns": null,
            "grid_template_rows": null,
            "height": null,
            "justify_content": null,
            "justify_items": null,
            "left": null,
            "margin": null,
            "max_height": null,
            "max_width": null,
            "min_height": null,
            "min_width": null,
            "object_fit": null,
            "object_position": null,
            "order": null,
            "overflow": null,
            "overflow_x": null,
            "overflow_y": null,
            "padding": null,
            "right": null,
            "top": null,
            "visibility": null,
            "width": null
          }
        },
        "7240824538634a87a7ce26154e383552": {
          "model_module": "@jupyter-widgets/controls",
          "model_name": "DescriptionStyleModel",
          "model_module_version": "1.5.0",
          "state": {
            "_model_module": "@jupyter-widgets/controls",
            "_model_module_version": "1.5.0",
            "_model_name": "DescriptionStyleModel",
            "_view_count": null,
            "_view_module": "@jupyter-widgets/base",
            "_view_module_version": "1.2.0",
            "_view_name": "StyleView",
            "description_width": "initial"
          }
        },
        "a81151a9a2844a0dae019c033a153e3b": {
          "model_module": "@jupyter-widgets/controls",
          "model_name": "ButtonModel",
          "model_module_version": "1.5.0",
          "state": {
            "_dom_classes": [],
            "_model_module": "@jupyter-widgets/controls",
            "_model_module_version": "1.5.0",
            "_model_name": "ButtonModel",
            "_view_count": null,
            "_view_module": "@jupyter-widgets/controls",
            "_view_module_version": "1.5.0",
            "_view_name": "ButtonView",
            "button_style": "info",
            "description": "แสดงข้อมูลรายละเอียดสำหรับโรคที่เลือก",
            "disabled": false,
            "icon": "",
            "layout": "IPY_MODEL_23a72babe1eb4cb7984b2e9b13a7c82b",
            "style": "IPY_MODEL_7a95c912db6e45b88daa90dc6169c4fd",
            "tooltip": ""
          }
        },
        "23a72babe1eb4cb7984b2e9b13a7c82b": {
          "model_module": "@jupyter-widgets/base",
          "model_name": "LayoutModel",
          "model_module_version": "1.2.0",
          "state": {
            "_model_module": "@jupyter-widgets/base",
            "_model_module_version": "1.2.0",
            "_model_name": "LayoutModel",
            "_view_count": null,
            "_view_module": "@jupyter-widgets/base",
            "_view_module_version": "1.2.0",
            "_view_name": "LayoutView",
            "align_content": null,
            "align_items": null,
            "align_self": null,
            "border": null,
            "bottom": null,
            "display": null,
            "flex": null,
            "flex_flow": null,
            "grid_area": null,
            "grid_auto_columns": null,
            "grid_auto_flow": null,
            "grid_auto_rows": null,
            "grid_column": null,
            "grid_gap": null,
            "grid_row": null,
            "grid_template_areas": null,
            "grid_template_columns": null,
            "grid_template_rows": null,
            "height": null,
            "justify_content": null,
            "justify_items": null,
            "left": null,
            "margin": null,
            "max_height": null,
            "max_width": null,
            "min_height": null,
            "min_width": null,
            "object_fit": null,
            "object_position": null,
            "order": null,
            "overflow": null,
            "overflow_x": null,
            "overflow_y": null,
            "padding": null,
            "right": null,
            "top": null,
            "visibility": null,
            "width": null
          }
        },
        "7a95c912db6e45b88daa90dc6169c4fd": {
          "model_module": "@jupyter-widgets/controls",
          "model_name": "ButtonStyleModel",
          "model_module_version": "1.5.0",
          "state": {
            "_model_module": "@jupyter-widgets/controls",
            "_model_module_version": "1.5.0",
            "_model_name": "ButtonStyleModel",
            "_view_count": null,
            "_view_module": "@jupyter-widgets/base",
            "_view_module_version": "1.2.0",
            "_view_name": "StyleView",
            "button_color": null,
            "font_weight": ""
          }
        },
        "6deb4106696a4e99a72d8e3ff777eb0b": {
          "model_module": "@jupyter-widgets/controls",
          "model_name": "SelectMultipleModel",
          "model_module_version": "1.5.0",
          "state": {
            "_dom_classes": [],
            "_model_module": "@jupyter-widgets/controls",
            "_model_module_version": "1.5.0",
            "_model_name": "SelectMultipleModel",
            "_options_labels": [],
            "_view_count": null,
            "_view_module": "@jupyter-widgets/controls",
            "_view_module_version": "1.5.0",
            "_view_name": "SelectMultipleView",
            "description": "เลือกโรคสำหรับ Report:",
            "description_tooltip": null,
            "disabled": false,
            "index": [],
            "layout": "IPY_MODEL_0ec5f910c72a45bbb61f99c53e42cb88",
            "rows": 4,
            "style": "IPY_MODEL_b563f4cb87db4c0fabce74141215d5ce"
          }
        },
        "0ec5f910c72a45bbb61f99c53e42cb88": {
          "model_module": "@jupyter-widgets/base",
          "model_name": "LayoutModel",
          "model_module_version": "1.2.0",
          "state": {
            "_model_module": "@jupyter-widgets/base",
            "_model_module_version": "1.2.0",
            "_model_name": "LayoutModel",
            "_view_count": null,
            "_view_module": "@jupyter-widgets/base",
            "_view_module_version": "1.2.0",
            "_view_name": "LayoutView",
            "align_content": null,
            "align_items": null,
            "align_self": null,
            "border": null,
            "bottom": null,
            "display": null,
            "flex": null,
            "flex_flow": null,
            "grid_area": null,
            "grid_auto_columns": null,
            "grid_auto_flow": null,
            "grid_auto_rows": null,
            "grid_column": null,
            "grid_gap": null,
            "grid_row": null,
            "grid_template_areas": null,
            "grid_template_columns": null,
            "grid_template_rows": null,
            "height": null,
            "justify_content": null,
            "justify_items": null,
            "left": null,
            "margin": null,
            "max_height": null,
            "max_width": null,
            "min_height": null,
            "min_width": null,
            "object_fit": null,
            "object_position": null,
            "order": null,
            "overflow": null,
            "overflow_x": null,
            "overflow_y": null,
            "padding": null,
            "right": null,
            "top": null,
            "visibility": null,
            "width": null
          }
        },
        "b563f4cb87db4c0fabce74141215d5ce": {
          "model_module": "@jupyter-widgets/controls",
          "model_name": "DescriptionStyleModel",
          "model_module_version": "1.5.0",
          "state": {
            "_model_module": "@jupyter-widgets/controls",
            "_model_module_version": "1.5.0",
            "_model_name": "DescriptionStyleModel",
            "_view_count": null,
            "_view_module": "@jupyter-widgets/base",
            "_view_module_version": "1.2.0",
            "_view_name": "StyleView",
            "description_width": "initial"
          }
        },
        "acbab823943a4929bb2365fc14777157": {
          "model_module": "@jupyter-widgets/controls",
          "model_name": "ButtonModel",
          "model_module_version": "1.5.0",
          "state": {
            "_dom_classes": [],
            "_model_module": "@jupyter-widgets/controls",
            "_model_module_version": "1.5.0",
            "_model_name": "ButtonModel",
            "_view_count": null,
            "_view_module": "@jupyter-widgets/controls",
            "_view_module_version": "1.5.0",
            "_view_name": "ButtonView",
            "button_style": "success",
            "description": "สร้างรายงาน PDF",
            "disabled": false,
            "icon": "",
            "layout": "IPY_MODEL_238085352b284477b8ada76a847b4692",
            "style": "IPY_MODEL_427f1051b9a642dd92981dd733d7c7d5",
            "tooltip": ""
          }
        },
        "238085352b284477b8ada76a847b4692": {
          "model_module": "@jupyter-widgets/base",
          "model_name": "LayoutModel",
          "model_module_version": "1.2.0",
          "state": {
            "_model_module": "@jupyter-widgets/base",
            "_model_module_version": "1.2.0",
            "_model_name": "LayoutModel",
            "_view_count": null,
            "_view_module": "@jupyter-widgets/base",
            "_view_module_version": "1.2.0",
            "_view_name": "LayoutView",
            "align_content": null,
            "align_items": null,
            "align_self": null,
            "border": null,
            "bottom": null,
            "display": null,
            "flex": null,
            "flex_flow": null,
            "grid_area": null,
            "grid_auto_columns": null,
            "grid_auto_flow": null,
            "grid_auto_rows": null,
            "grid_column": null,
            "grid_gap": null,
            "grid_row": null,
            "grid_template_areas": null,
            "grid_template_columns": null,
            "grid_template_rows": null,
            "height": null,
            "justify_content": null,
            "justify_items": null,
            "left": null,
            "margin": null,
            "max_height": null,
            "max_width": null,
            "min_height": null,
            "min_width": null,
            "object_fit": null,
            "object_position": null,
            "order": null,
            "overflow": null,
            "overflow_x": null,
            "overflow_y": null,
            "padding": null,
            "right": null,
            "top": null,
            "visibility": null,
            "width": null
          }
        },
        "427f1051b9a642dd92981dd733d7c7d5": {
          "model_module": "@jupyter-widgets/controls",
          "model_name": "ButtonStyleModel",
          "model_module_version": "1.5.0",
          "state": {
            "_model_module": "@jupyter-widgets/controls",
            "_model_module_version": "1.5.0",
            "_model_name": "ButtonStyleModel",
            "_view_count": null,
            "_view_module": "@jupyter-widgets/base",
            "_view_module_version": "1.2.0",
            "_view_name": "StyleView",
            "button_color": null,
            "font_weight": ""
          }
        },
        "676d1c8cabc84a81af22eaf0b60f2d0a": {
          "model_module": "@jupyter-widgets/controls",
          "model_name": "FileUploadModel",
          "model_module_version": "1.5.0",
          "state": {
            "_counter": 1,
            "_dom_classes": [],
            "_model_module": "@jupyter-widgets/controls",
            "_model_module_version": "1.5.0",
            "_model_name": "FileUploadModel",
            "_view_count": null,
            "_view_module": "@jupyter-widgets/controls",
            "_view_module_version": "1.5.0",
            "_view_name": "FileUploadView",
            "accept": "image/*",
            "button_style": "",
            "data": [
              null
            ],
            "description": "Upload",
            "description_tooltip": null,
            "disabled": false,
            "error": "",
            "icon": "upload",
            "layout": "IPY_MODEL_b87e34671b7b43eca9ff0817d6d6fc2e",
            "metadata": [
              {
                "name": "sheath_blight__0_1494.jpg",
                "type": "image/jpeg",
                "size": 12394,
                "lastModified": 1741397429508
              }
            ],
            "multiple": false,
            "style": "IPY_MODEL_2a770ebc5c0a4d30a1be882e82df137c"
          }
        },
        "b87e34671b7b43eca9ff0817d6d6fc2e": {
          "model_module": "@jupyter-widgets/base",
          "model_name": "LayoutModel",
          "model_module_version": "1.2.0",
          "state": {
            "_model_module": "@jupyter-widgets/base",
            "_model_module_version": "1.2.0",
            "_model_name": "LayoutModel",
            "_view_count": null,
            "_view_module": "@jupyter-widgets/base",
            "_view_module_version": "1.2.0",
            "_view_name": "LayoutView",
            "align_content": null,
            "align_items": null,
            "align_self": null,
            "border": null,
            "bottom": null,
            "display": null,
            "flex": null,
            "flex_flow": null,
            "grid_area": null,
            "grid_auto_columns": null,
            "grid_auto_flow": null,
            "grid_auto_rows": null,
            "grid_column": null,
            "grid_gap": null,
            "grid_row": null,
            "grid_template_areas": null,
            "grid_template_columns": null,
            "grid_template_rows": null,
            "height": null,
            "justify_content": null,
            "justify_items": null,
            "left": null,
            "margin": null,
            "max_height": null,
            "max_width": null,
            "min_height": null,
            "min_width": null,
            "object_fit": null,
            "object_position": null,
            "order": null,
            "overflow": null,
            "overflow_x": null,
            "overflow_y": null,
            "padding": null,
            "right": null,
            "top": null,
            "visibility": null,
            "width": null
          }
        },
        "2a770ebc5c0a4d30a1be882e82df137c": {
          "model_module": "@jupyter-widgets/controls",
          "model_name": "ButtonStyleModel",
          "model_module_version": "1.5.0",
          "state": {
            "_model_module": "@jupyter-widgets/controls",
            "_model_module_version": "1.5.0",
            "_model_name": "ButtonStyleModel",
            "_view_count": null,
            "_view_module": "@jupyter-widgets/base",
            "_view_module_version": "1.2.0",
            "_view_name": "StyleView",
            "button_color": null,
            "font_weight": ""
          }
        },
        "ecd6ecb616f447ebad4ea961adcc1396": {
          "model_module": "@jupyter-widgets/controls",
          "model_name": "SelectMultipleModel",
          "model_module_version": "1.5.0",
          "state": {
            "_dom_classes": [],
            "_model_module": "@jupyter-widgets/controls",
            "_model_module_version": "1.5.0",
            "_model_name": "SelectMultipleModel",
            "_options_labels": [],
            "_view_count": null,
            "_view_module": "@jupyter-widgets/controls",
            "_view_module_version": "1.5.0",
            "_view_name": "SelectMultipleView",
            "description": "เลือกโรคสำหรับข้อมูลเพิ่มเติม:",
            "description_tooltip": null,
            "disabled": false,
            "index": [],
            "layout": "IPY_MODEL_30dbeb3225fb4660a64cc77497065a33",
            "rows": 4,
            "style": "IPY_MODEL_46bbd89d5e0f4047b240fdf5e0eb0cb3"
          }
        },
        "30dbeb3225fb4660a64cc77497065a33": {
          "model_module": "@jupyter-widgets/base",
          "model_name": "LayoutModel",
          "model_module_version": "1.2.0",
          "state": {
            "_model_module": "@jupyter-widgets/base",
            "_model_module_version": "1.2.0",
            "_model_name": "LayoutModel",
            "_view_count": null,
            "_view_module": "@jupyter-widgets/base",
            "_view_module_version": "1.2.0",
            "_view_name": "LayoutView",
            "align_content": null,
            "align_items": null,
            "align_self": null,
            "border": null,
            "bottom": null,
            "display": null,
            "flex": null,
            "flex_flow": null,
            "grid_area": null,
            "grid_auto_columns": null,
            "grid_auto_flow": null,
            "grid_auto_rows": null,
            "grid_column": null,
            "grid_gap": null,
            "grid_row": null,
            "grid_template_areas": null,
            "grid_template_columns": null,
            "grid_template_rows": null,
            "height": null,
            "justify_content": null,
            "justify_items": null,
            "left": null,
            "margin": null,
            "max_height": null,
            "max_width": null,
            "min_height": null,
            "min_width": null,
            "object_fit": null,
            "object_position": null,
            "order": null,
            "overflow": null,
            "overflow_x": null,
            "overflow_y": null,
            "padding": null,
            "right": null,
            "top": null,
            "visibility": null,
            "width": null
          }
        },
        "46bbd89d5e0f4047b240fdf5e0eb0cb3": {
          "model_module": "@jupyter-widgets/controls",
          "model_name": "DescriptionStyleModel",
          "model_module_version": "1.5.0",
          "state": {
            "_model_module": "@jupyter-widgets/controls",
            "_model_module_version": "1.5.0",
            "_model_name": "DescriptionStyleModel",
            "_view_count": null,
            "_view_module": "@jupyter-widgets/base",
            "_view_module_version": "1.2.0",
            "_view_name": "StyleView",
            "description_width": "initial"
          }
        },
        "e09dcb18c0164e86a185dc5c75cb2579": {
          "model_module": "@jupyter-widgets/controls",
          "model_name": "ButtonModel",
          "model_module_version": "1.5.0",
          "state": {
            "_dom_classes": [],
            "_model_module": "@jupyter-widgets/controls",
            "_model_module_version": "1.5.0",
            "_model_name": "ButtonModel",
            "_view_count": null,
            "_view_module": "@jupyter-widgets/controls",
            "_view_module_version": "1.5.0",
            "_view_name": "ButtonView",
            "button_style": "info",
            "description": "🔎 แสดงข้อมูลโรค",
            "disabled": false,
            "icon": "",
            "layout": "IPY_MODEL_4df3b13d73604b2a889f1e334f141e95",
            "style": "IPY_MODEL_4f7cc562720e4263a56bcfad1478b7ef",
            "tooltip": ""
          }
        },
        "4df3b13d73604b2a889f1e334f141e95": {
          "model_module": "@jupyter-widgets/base",
          "model_name": "LayoutModel",
          "model_module_version": "1.2.0",
          "state": {
            "_model_module": "@jupyter-widgets/base",
            "_model_module_version": "1.2.0",
            "_model_name": "LayoutModel",
            "_view_count": null,
            "_view_module": "@jupyter-widgets/base",
            "_view_module_version": "1.2.0",
            "_view_name": "LayoutView",
            "align_content": null,
            "align_items": null,
            "align_self": null,
            "border": null,
            "bottom": null,
            "display": null,
            "flex": null,
            "flex_flow": null,
            "grid_area": null,
            "grid_auto_columns": null,
            "grid_auto_flow": null,
            "grid_auto_rows": null,
            "grid_column": null,
            "grid_gap": null,
            "grid_row": null,
            "grid_template_areas": null,
            "grid_template_columns": null,
            "grid_template_rows": null,
            "height": null,
            "justify_content": null,
            "justify_items": null,
            "left": null,
            "margin": null,
            "max_height": null,
            "max_width": null,
            "min_height": null,
            "min_width": null,
            "object_fit": null,
            "object_position": null,
            "order": null,
            "overflow": null,
            "overflow_x": null,
            "overflow_y": null,
            "padding": null,
            "right": null,
            "top": null,
            "visibility": null,
            "width": null
          }
        },
        "4f7cc562720e4263a56bcfad1478b7ef": {
          "model_module": "@jupyter-widgets/controls",
          "model_name": "ButtonStyleModel",
          "model_module_version": "1.5.0",
          "state": {
            "_model_module": "@jupyter-widgets/controls",
            "_model_module_version": "1.5.0",
            "_model_name": "ButtonStyleModel",
            "_view_count": null,
            "_view_module": "@jupyter-widgets/base",
            "_view_module_version": "1.2.0",
            "_view_name": "StyleView",
            "button_color": null,
            "font_weight": ""
          }
        },
        "42337be09dac4559857f55615e9b3ff8": {
          "model_module": "@jupyter-widgets/controls",
          "model_name": "SelectMultipleModel",
          "model_module_version": "1.5.0",
          "state": {
            "_dom_classes": [],
            "_model_module": "@jupyter-widgets/controls",
            "_model_module_version": "1.5.0",
            "_model_name": "SelectMultipleModel",
            "_options_labels": [],
            "_view_count": null,
            "_view_module": "@jupyter-widgets/controls",
            "_view_module_version": "1.5.0",
            "_view_name": "SelectMultipleView",
            "description": "เลือกโรคสำหรับ Report:",
            "description_tooltip": null,
            "disabled": false,
            "index": [],
            "layout": "IPY_MODEL_03afa2b330014f41b17e9fdb5533aa7e",
            "rows": 4,
            "style": "IPY_MODEL_1e1c783cb53143d9b32141643a71f1cc"
          }
        },
        "03afa2b330014f41b17e9fdb5533aa7e": {
          "model_module": "@jupyter-widgets/base",
          "model_name": "LayoutModel",
          "model_module_version": "1.2.0",
          "state": {
            "_model_module": "@jupyter-widgets/base",
            "_model_module_version": "1.2.0",
            "_model_name": "LayoutModel",
            "_view_count": null,
            "_view_module": "@jupyter-widgets/base",
            "_view_module_version": "1.2.0",
            "_view_name": "LayoutView",
            "align_content": null,
            "align_items": null,
            "align_self": null,
            "border": null,
            "bottom": null,
            "display": null,
            "flex": null,
            "flex_flow": null,
            "grid_area": null,
            "grid_auto_columns": null,
            "grid_auto_flow": null,
            "grid_auto_rows": null,
            "grid_column": null,
            "grid_gap": null,
            "grid_row": null,
            "grid_template_areas": null,
            "grid_template_columns": null,
            "grid_template_rows": null,
            "height": null,
            "justify_content": null,
            "justify_items": null,
            "left": null,
            "margin": null,
            "max_height": null,
            "max_width": null,
            "min_height": null,
            "min_width": null,
            "object_fit": null,
            "object_position": null,
            "order": null,
            "overflow": null,
            "overflow_x": null,
            "overflow_y": null,
            "padding": null,
            "right": null,
            "top": null,
            "visibility": null,
            "width": null
          }
        },
        "1e1c783cb53143d9b32141643a71f1cc": {
          "model_module": "@jupyter-widgets/controls",
          "model_name": "DescriptionStyleModel",
          "model_module_version": "1.5.0",
          "state": {
            "_model_module": "@jupyter-widgets/controls",
            "_model_module_version": "1.5.0",
            "_model_name": "DescriptionStyleModel",
            "_view_count": null,
            "_view_module": "@jupyter-widgets/base",
            "_view_module_version": "1.2.0",
            "_view_name": "StyleView",
            "description_width": "initial"
          }
        },
        "bc0b835d0c8647a89d0b333dba99d116": {
          "model_module": "@jupyter-widgets/controls",
          "model_name": "ButtonModel",
          "model_module_version": "1.5.0",
          "state": {
            "_dom_classes": [],
            "_model_module": "@jupyter-widgets/controls",
            "_model_module_version": "1.5.0",
            "_model_name": "ButtonModel",
            "_view_count": null,
            "_view_module": "@jupyter-widgets/controls",
            "_view_module_version": "1.5.0",
            "_view_name": "ButtonView",
            "button_style": "success",
            "description": "📄 สร้างรายงาน PDF",
            "disabled": false,
            "icon": "",
            "layout": "IPY_MODEL_6e182b5893bf451195a5c1dfa8b394d7",
            "style": "IPY_MODEL_c959d596f2f5418d9915fd8de170a7f0",
            "tooltip": ""
          }
        },
        "6e182b5893bf451195a5c1dfa8b394d7": {
          "model_module": "@jupyter-widgets/base",
          "model_name": "LayoutModel",
          "model_module_version": "1.2.0",
          "state": {
            "_model_module": "@jupyter-widgets/base",
            "_model_module_version": "1.2.0",
            "_model_name": "LayoutModel",
            "_view_count": null,
            "_view_module": "@jupyter-widgets/base",
            "_view_module_version": "1.2.0",
            "_view_name": "LayoutView",
            "align_content": null,
            "align_items": null,
            "align_self": null,
            "border": null,
            "bottom": null,
            "display": null,
            "flex": null,
            "flex_flow": null,
            "grid_area": null,
            "grid_auto_columns": null,
            "grid_auto_flow": null,
            "grid_auto_rows": null,
            "grid_column": null,
            "grid_gap": null,
            "grid_row": null,
            "grid_template_areas": null,
            "grid_template_columns": null,
            "grid_template_rows": null,
            "height": null,
            "justify_content": null,
            "justify_items": null,
            "left": null,
            "margin": null,
            "max_height": null,
            "max_width": null,
            "min_height": null,
            "min_width": null,
            "object_fit": null,
            "object_position": null,
            "order": null,
            "overflow": null,
            "overflow_x": null,
            "overflow_y": null,
            "padding": null,
            "right": null,
            "top": null,
            "visibility": null,
            "width": null
          }
        },
        "c959d596f2f5418d9915fd8de170a7f0": {
          "model_module": "@jupyter-widgets/controls",
          "model_name": "ButtonStyleModel",
          "model_module_version": "1.5.0",
          "state": {
            "_model_module": "@jupyter-widgets/controls",
            "_model_module_version": "1.5.0",
            "_model_name": "ButtonStyleModel",
            "_view_count": null,
            "_view_module": "@jupyter-widgets/base",
            "_view_module_version": "1.2.0",
            "_view_name": "StyleView",
            "button_color": null,
            "font_weight": ""
          }
        }
      }
    }
  },
  "cells": [
    {
      "cell_type": "code",
      "execution_count": null,
      "metadata": {
        "id": "MIWte3V_NanT",
        "colab": {
          "base_uri": "https://localhost:8080/",
          "height": 391
        },
        "outputId": "5622c1f2-e574-4877-aa8c-214afcbe40d2"
      },
      "outputs": [
        {
          "output_type": "error",
          "ename": "TypeError",
          "evalue": "Error when deserializing class 'InputLayer' using config={'batch_shape': [None, 224, 224, 3], 'dtype': 'float32', 'sparse': False, 'name': 'input_layer_1'}.\n\nException encountered: Unrecognized keyword arguments: ['batch_shape']",
          "traceback": [
            "\u001b[0;31m---------------------------------------------------------------------------\u001b[0m",
            "\u001b[0;31mTypeError\u001b[0m                                 Traceback (most recent call last)",
            "\u001b[0;32m<ipython-input-5-10cfe46b816f>\u001b[0m in \u001b[0;36m<cell line: 0>\u001b[0;34m()\u001b[0m\n\u001b[1;32m     16\u001b[0m \u001b[0;34m\u001b[0m\u001b[0m\n\u001b[1;32m     17\u001b[0m \u001b[0;31m# โหลดโมเดล EfficientNet ที่ฝึกไว้\u001b[0m\u001b[0;34m\u001b[0m\u001b[0;34m\u001b[0m\u001b[0m\n\u001b[0;32m---> 18\u001b[0;31m \u001b[0mmodel\u001b[0m \u001b[0;34m=\u001b[0m \u001b[0mload_model\u001b[0m\u001b[0;34m(\u001b[0m\u001b[0mMODEL_PATH\u001b[0m\u001b[0;34m)\u001b[0m\u001b[0;34m\u001b[0m\u001b[0;34m\u001b[0m\u001b[0m\n\u001b[0m\u001b[1;32m     19\u001b[0m \u001b[0mprint\u001b[0m\u001b[0;34m(\u001b[0m\u001b[0;34m\"✅ โมเดลโหลดสำเร็จ!\"\u001b[0m\u001b[0;34m)\u001b[0m\u001b[0;34m\u001b[0m\u001b[0;34m\u001b[0m\u001b[0m\n\u001b[1;32m     20\u001b[0m \u001b[0;34m\u001b[0m\u001b[0m\n",
            "\u001b[0;32m/usr/local/lib/python3.11/dist-packages/keras/src/saving/saving_api.py\u001b[0m in \u001b[0;36mload_model\u001b[0;34m(filepath, custom_objects, compile, safe_mode, **kwargs)\u001b[0m\n\u001b[1;32m    260\u001b[0m \u001b[0;34m\u001b[0m\u001b[0m\n\u001b[1;32m    261\u001b[0m     \u001b[0;31m# Legacy case.\u001b[0m\u001b[0;34m\u001b[0m\u001b[0;34m\u001b[0m\u001b[0m\n\u001b[0;32m--> 262\u001b[0;31m     return legacy_sm_saving_lib.load_model(\n\u001b[0m\u001b[1;32m    263\u001b[0m         \u001b[0mfilepath\u001b[0m\u001b[0;34m,\u001b[0m \u001b[0mcustom_objects\u001b[0m\u001b[0;34m=\u001b[0m\u001b[0mcustom_objects\u001b[0m\u001b[0;34m,\u001b[0m \u001b[0mcompile\u001b[0m\u001b[0;34m=\u001b[0m\u001b[0mcompile\u001b[0m\u001b[0;34m,\u001b[0m \u001b[0;34m**\u001b[0m\u001b[0mkwargs\u001b[0m\u001b[0;34m\u001b[0m\u001b[0;34m\u001b[0m\u001b[0m\n\u001b[1;32m    264\u001b[0m     )\n",
            "\u001b[0;32m/usr/local/lib/python3.11/dist-packages/keras/src/utils/traceback_utils.py\u001b[0m in \u001b[0;36merror_handler\u001b[0;34m(*args, **kwargs)\u001b[0m\n\u001b[1;32m     68\u001b[0m             \u001b[0;31m# To get the full stack trace, call:\u001b[0m\u001b[0;34m\u001b[0m\u001b[0;34m\u001b[0m\u001b[0m\n\u001b[1;32m     69\u001b[0m             \u001b[0;31m# `tf.debugging.disable_traceback_filtering()`\u001b[0m\u001b[0;34m\u001b[0m\u001b[0;34m\u001b[0m\u001b[0m\n\u001b[0;32m---> 70\u001b[0;31m             \u001b[0;32mraise\u001b[0m \u001b[0me\u001b[0m\u001b[0;34m.\u001b[0m\u001b[0mwith_traceback\u001b[0m\u001b[0;34m(\u001b[0m\u001b[0mfiltered_tb\u001b[0m\u001b[0;34m)\u001b[0m \u001b[0;32mfrom\u001b[0m \u001b[0;32mNone\u001b[0m\u001b[0;34m\u001b[0m\u001b[0;34m\u001b[0m\u001b[0m\n\u001b[0m\u001b[1;32m     71\u001b[0m         \u001b[0;32mfinally\u001b[0m\u001b[0;34m:\u001b[0m\u001b[0;34m\u001b[0m\u001b[0;34m\u001b[0m\u001b[0m\n\u001b[1;32m     72\u001b[0m             \u001b[0;32mdel\u001b[0m \u001b[0mfiltered_tb\u001b[0m\u001b[0;34m\u001b[0m\u001b[0;34m\u001b[0m\u001b[0m\n",
            "\u001b[0;32m/usr/local/lib/python3.11/dist-packages/keras/src/engine/base_layer.py\u001b[0m in \u001b[0;36mfrom_config\u001b[0;34m(cls, config)\u001b[0m\n\u001b[1;32m    868\u001b[0m             \u001b[0;32mreturn\u001b[0m \u001b[0mcls\u001b[0m\u001b[0;34m(\u001b[0m\u001b[0;34m**\u001b[0m\u001b[0mconfig\u001b[0m\u001b[0;34m)\u001b[0m\u001b[0;34m\u001b[0m\u001b[0;34m\u001b[0m\u001b[0m\n\u001b[1;32m    869\u001b[0m         \u001b[0;32mexcept\u001b[0m \u001b[0mException\u001b[0m \u001b[0;32mas\u001b[0m \u001b[0me\u001b[0m\u001b[0;34m:\u001b[0m\u001b[0;34m\u001b[0m\u001b[0;34m\u001b[0m\u001b[0m\n\u001b[0;32m--> 870\u001b[0;31m             raise TypeError(\n\u001b[0m\u001b[1;32m    871\u001b[0m                 \u001b[0;34mf\"Error when deserializing class '{cls.__name__}' using \"\u001b[0m\u001b[0;34m\u001b[0m\u001b[0;34m\u001b[0m\u001b[0m\n\u001b[1;32m    872\u001b[0m                 \u001b[0;34mf\"config={config}.\\n\\nException encountered: {e}\"\u001b[0m\u001b[0;34m\u001b[0m\u001b[0;34m\u001b[0m\u001b[0m\n",
            "\u001b[0;31mTypeError\u001b[0m: Error when deserializing class 'InputLayer' using config={'batch_shape': [None, 224, 224, 3], 'dtype': 'float32', 'sparse': False, 'name': 'input_layer_1'}.\n\nException encountered: Unrecognized keyword arguments: ['batch_shape']"
          ]
        }
      ],
      "source": [
        "# ติดตั้งไลบรารีที่จำเป็น\n",
        "# !pip install tensorflow keras numpy pandas pillow\n",
        "\n",
        "import tensorflow as tf\n",
        "from tensorflow.keras.models import load_model\n",
        "import numpy as np\n",
        "import pandas as pd\n",
        "import ipywidgets as widgets\n",
        "from IPython.display import display, HTML, Javascript\n",
        "from PIL import Image\n",
        "import io\n",
        "\n",
        "# ตั้งค่าตำแหน่งโฟลเดอร์\n",
        "MODEL_PATH = \"/content/drive/MyDrive/Colab Notebooks/rice-disease-dignosis/model/best_model_v5.h5\"\n",
        "CSV_PATH = \"/content/drive/MyDrive/Colab Notebooks/rice-disease-dignosis/disease_info.csv\"\n",
        "\n",
        "# โหลดโมเดล EfficientNet ที่ฝึกไว้\n",
        "model = load_model(MODEL_PATH)\n",
        "print(\"✅ โมเดลโหลดสำเร็จ!\")\n",
        "\n",
        "# โหลดข้อมูลคำแนะนำ\n",
        "disease_info = pd.read_csv(CSV_PATH)\n",
        "print(\"✅ โหลดข้อมูลคำแนะนำสำเร็จ!\")\n",
        "\n",
        "# ชื่อคลาสของโรคที่โมเดลสามารถวิเคราะห์ได้\n",
        "class_names = [\"Bacterial leaf blight\", \"Blast\", \"Brown spot\", \"Sheath blight\"]\n",
        "\n",
        "# ฟังก์ชันพยากรณ์โรคจากภาพ\n",
        "def predict_disease(image):\n",
        "    img = image.resize((224, 224))  # Resize ให้ตรงกับ input ของ EfficientNet\n",
        "    img_array = np.array(img) / 255.0\n",
        "    img_array = np.expand_dims(img_array, axis=0)  # เพิ่ม batch dimension\n",
        "    prediction = model.predict(img_array)\n",
        "    predicted_class = class_names[np.argmax(prediction)]\n",
        "    confidence = np.max(prediction) * 100\n",
        "    return predicted_class, confidence\n",
        "\n",
        "# Widget อัปโหลดภาพ\n",
        "upload = widgets.FileUpload(accept='image/*', multiple=False)\n",
        "\n",
        "# Dropdown เลือกคำแนะนำ\n",
        "categories = [\"Cause\", \"Symptom\", \"Prevention\", \"Control\", \"Recovery\", \"Solution\"]\n",
        "checkboxes = [widgets.Checkbox(value=False, description=cat) for cat in categories]\n",
        "\n",
        "# แสดงผลลัพธ์\n",
        "output = widgets.Output()\n",
        "\n",
        "# ฟังก์ชันแสดงผลการวิเคราะห์\n",
        "def display_results(change):\n",
        "    output.clear_output()\n",
        "    uploaded_file = upload.value\n",
        "    if not uploaded_file:\n",
        "        return\n",
        "\n",
        "    # อ่านภาพ\n",
        "    image_data = list(uploaded_file.values())[0]['content']\n",
        "    image = Image.open(io.BytesIO(image_data))\n",
        "\n",
        "    # พยากรณ์โรค\n",
        "    disease, confidence = predict_disease(image)\n",
        "\n",
        "    # แสดงผลการวิเคราะห์\n",
        "    with output:\n",
        "        display(image)  # แสดงภาพที่อัปโหลด\n",
        "        display(HTML(f\"<h3>🔍 ผลการวิเคราะห์: <span style='color:blue;'>{disease}</span> (ความแม่นยำ {confidence:.2f}%)</h3>\"))\n",
        "\n",
        "        # แสดงคำแนะนำ\n",
        "        for cb in checkboxes:\n",
        "            if cb.value:\n",
        "                advice = disease_info[(disease_info[\"disease\"] == disease) & (disease_info[\"category\"] == cb.description)][\"advice\"].values\n",
        "                if len(advice) > 0:\n",
        "                    display(HTML(f\"<b>{cb.description}:</b> {advice[0]}\"))\n",
        "                else:\n",
        "                    display(HTML(f\"<b>{cb.description}:</b> ไม่มีข้อมูล\"))\n",
        "\n",
        "        # ปุ่มค้นหาข้อมูลเพิ่มเติม\n",
        "        query = f\"{disease} rice disease management\"\n",
        "        search_button = widgets.Button(description=\"🌐 ค้นหาข้อมูลเพิ่มเติม\")\n",
        "        search_button.on_click(lambda b: display(Javascript(f'window.open(\"https://www.google.com/search?q={query}\", \"_blank\")')))\n",
        "        display(search_button)\n",
        "\n",
        "# ปุ่มแสดงผล\n",
        "show_button = widgets.Button(description=\"🔎 วิเคราะห์ภาพ\")\n",
        "show_button.on_click(display_results)\n",
        "\n",
        "# Layout ของ UI\n",
        "ui = widgets.VBox([upload] + checkboxes + [show_button, output])\n",
        "display(ui)\n"
      ]
    },
    {
      "cell_type": "code",
      "source": [
        "import tensorflow as tf\n",
        "from tensorflow.keras.models import load_model\n",
        "\n",
        "MODEL_PATH = \"/content/drive/MyDrive/Colab Notebooks/rice-disease-dignosis/model/best_model_v5.h5\"\n",
        "\n",
        "try:\n",
        "    model = load_model(MODEL_PATH, compile=False)  # ปิด compile\n",
        "    print(\"✅ โมเดลโหลดสำเร็จ!\")\n",
        "except Exception as e:\n",
        "    print(f\"❌ ไม่สามารถโหลดโมเดล: {e}\")"
      ],
      "metadata": {
        "colab": {
          "base_uri": "https://localhost:8080/"
        },
        "id": "HtXfJI_pZzWt",
        "outputId": "b05b63e3-c0e0-44a6-9cf6-5588310259b9"
      },
      "execution_count": null,
      "outputs": [
        {
          "output_type": "stream",
          "name": "stdout",
          "text": [
            "❌ ไม่สามารถโหลดโมเดล: Error when deserializing class 'InputLayer' using config={'batch_shape': [None, 224, 224, 3], 'dtype': 'float32', 'sparse': False, 'name': 'input_layer_1'}.\n",
            "\n",
            "Exception encountered: Unrecognized keyword arguments: ['batch_shape']\n"
          ]
        }
      ]
    },
    {
      "cell_type": "code",
      "source": [
        "from google.colab import drive\n",
        "drive.mount('/content/drive')"
      ],
      "metadata": {
        "colab": {
          "base_uri": "https://localhost:8080/"
        },
        "id": "s3rGTnz1UlNE",
        "outputId": "ffb04f29-6a7b-4393-e8a9-42fe1c7e70cd"
      },
      "execution_count": null,
      "outputs": [
        {
          "output_type": "stream",
          "name": "stdout",
          "text": [
            "Drive already mounted at /content/drive; to attempt to forcibly remount, call drive.mount(\"/content/drive\", force_remount=True).\n"
          ]
        }
      ]
    },
    {
      "cell_type": "markdown",
      "source": [
        "#ติดตั้ง Dependencies"
      ],
      "metadata": {
        "id": "qkmjBOEdweAP"
      }
    },
    {
      "cell_type": "code",
      "source": [
        "# !pip install ipywidgets fpdf pandas pillow matplotlib"
      ],
      "metadata": {
        "id": "mYSg1D8-v443",
        "colab": {
          "base_uri": "https://localhost:8080/"
        },
        "outputId": "1411046b-4c85-4cca-d56d-a302c9650be2"
      },
      "execution_count": null,
      "outputs": [
        {
          "output_type": "stream",
          "name": "stdout",
          "text": [
            "Requirement already satisfied: ipywidgets in /usr/local/lib/python3.11/dist-packages (7.7.1)\n",
            "Requirement already satisfied: fpdf in /usr/local/lib/python3.11/dist-packages (1.7.2)\n",
            "Requirement already satisfied: pandas in /usr/local/lib/python3.11/dist-packages (2.2.2)\n",
            "Requirement already satisfied: pillow in /usr/local/lib/python3.11/dist-packages (11.1.0)\n",
            "Requirement already satisfied: matplotlib in /usr/local/lib/python3.11/dist-packages (3.10.0)\n",
            "Requirement already satisfied: ipykernel>=4.5.1 in /usr/local/lib/python3.11/dist-packages (from ipywidgets) (6.17.1)\n",
            "Requirement already satisfied: ipython-genutils~=0.2.0 in /usr/local/lib/python3.11/dist-packages (from ipywidgets) (0.2.0)\n",
            "Requirement already satisfied: traitlets>=4.3.1 in /usr/local/lib/python3.11/dist-packages (from ipywidgets) (5.7.1)\n",
            "Requirement already satisfied: widgetsnbextension~=3.6.0 in /usr/local/lib/python3.11/dist-packages (from ipywidgets) (3.6.10)\n",
            "Requirement already satisfied: ipython>=4.0.0 in /usr/local/lib/python3.11/dist-packages (from ipywidgets) (7.34.0)\n",
            "Requirement already satisfied: jupyterlab-widgets>=1.0.0 in /usr/local/lib/python3.11/dist-packages (from ipywidgets) (3.0.13)\n",
            "Requirement already satisfied: numpy>=1.23.2 in /usr/local/lib/python3.11/dist-packages (from pandas) (1.26.4)\n",
            "Requirement already satisfied: python-dateutil>=2.8.2 in /usr/local/lib/python3.11/dist-packages (from pandas) (2.8.2)\n",
            "Requirement already satisfied: pytz>=2020.1 in /usr/local/lib/python3.11/dist-packages (from pandas) (2025.1)\n",
            "Requirement already satisfied: tzdata>=2022.7 in /usr/local/lib/python3.11/dist-packages (from pandas) (2025.1)\n",
            "Requirement already satisfied: contourpy>=1.0.1 in /usr/local/lib/python3.11/dist-packages (from matplotlib) (1.3.1)\n",
            "Requirement already satisfied: cycler>=0.10 in /usr/local/lib/python3.11/dist-packages (from matplotlib) (0.12.1)\n",
            "Requirement already satisfied: fonttools>=4.22.0 in /usr/local/lib/python3.11/dist-packages (from matplotlib) (4.56.0)\n",
            "Requirement already satisfied: kiwisolver>=1.3.1 in /usr/local/lib/python3.11/dist-packages (from matplotlib) (1.4.8)\n",
            "Requirement already satisfied: packaging>=20.0 in /usr/local/lib/python3.11/dist-packages (from matplotlib) (24.2)\n",
            "Requirement already satisfied: pyparsing>=2.3.1 in /usr/local/lib/python3.11/dist-packages (from matplotlib) (3.2.1)\n",
            "Requirement already satisfied: debugpy>=1.0 in /usr/local/lib/python3.11/dist-packages (from ipykernel>=4.5.1->ipywidgets) (1.8.0)\n",
            "Requirement already satisfied: jupyter-client>=6.1.12 in /usr/local/lib/python3.11/dist-packages (from ipykernel>=4.5.1->ipywidgets) (6.1.12)\n",
            "Requirement already satisfied: matplotlib-inline>=0.1 in /usr/local/lib/python3.11/dist-packages (from ipykernel>=4.5.1->ipywidgets) (0.1.7)\n",
            "Requirement already satisfied: nest-asyncio in /usr/local/lib/python3.11/dist-packages (from ipykernel>=4.5.1->ipywidgets) (1.6.0)\n",
            "Requirement already satisfied: psutil in /usr/local/lib/python3.11/dist-packages (from ipykernel>=4.5.1->ipywidgets) (5.9.5)\n",
            "Requirement already satisfied: pyzmq>=17 in /usr/local/lib/python3.11/dist-packages (from ipykernel>=4.5.1->ipywidgets) (24.0.1)\n",
            "Requirement already satisfied: tornado>=6.1 in /usr/local/lib/python3.11/dist-packages (from ipykernel>=4.5.1->ipywidgets) (6.4.2)\n",
            "Requirement already satisfied: setuptools>=18.5 in /usr/local/lib/python3.11/dist-packages (from ipython>=4.0.0->ipywidgets) (75.1.0)\n",
            "Requirement already satisfied: jedi>=0.16 in /usr/local/lib/python3.11/dist-packages (from ipython>=4.0.0->ipywidgets) (0.19.2)\n",
            "Requirement already satisfied: decorator in /usr/local/lib/python3.11/dist-packages (from ipython>=4.0.0->ipywidgets) (4.4.2)\n",
            "Requirement already satisfied: pickleshare in /usr/local/lib/python3.11/dist-packages (from ipython>=4.0.0->ipywidgets) (0.7.5)\n",
            "Requirement already satisfied: prompt-toolkit!=3.0.0,!=3.0.1,<3.1.0,>=2.0.0 in /usr/local/lib/python3.11/dist-packages (from ipython>=4.0.0->ipywidgets) (3.0.50)\n",
            "Requirement already satisfied: pygments in /usr/local/lib/python3.11/dist-packages (from ipython>=4.0.0->ipywidgets) (2.18.0)\n",
            "Requirement already satisfied: backcall in /usr/local/lib/python3.11/dist-packages (from ipython>=4.0.0->ipywidgets) (0.2.0)\n",
            "Requirement already satisfied: pexpect>4.3 in /usr/local/lib/python3.11/dist-packages (from ipython>=4.0.0->ipywidgets) (4.9.0)\n",
            "Requirement already satisfied: six>=1.5 in /usr/local/lib/python3.11/dist-packages (from python-dateutil>=2.8.2->pandas) (1.17.0)\n",
            "Requirement already satisfied: notebook>=4.4.1 in /usr/local/lib/python3.11/dist-packages (from widgetsnbextension~=3.6.0->ipywidgets) (6.5.5)\n",
            "Requirement already satisfied: parso<0.9.0,>=0.8.4 in /usr/local/lib/python3.11/dist-packages (from jedi>=0.16->ipython>=4.0.0->ipywidgets) (0.8.4)\n",
            "Requirement already satisfied: jupyter-core>=4.6.0 in /usr/local/lib/python3.11/dist-packages (from jupyter-client>=6.1.12->ipykernel>=4.5.1->ipywidgets) (5.7.2)\n",
            "Requirement already satisfied: jinja2 in /usr/local/lib/python3.11/dist-packages (from notebook>=4.4.1->widgetsnbextension~=3.6.0->ipywidgets) (3.1.5)\n",
            "Requirement already satisfied: argon2-cffi in /usr/local/lib/python3.11/dist-packages (from notebook>=4.4.1->widgetsnbextension~=3.6.0->ipywidgets) (23.1.0)\n",
            "Requirement already satisfied: nbformat in /usr/local/lib/python3.11/dist-packages (from notebook>=4.4.1->widgetsnbextension~=3.6.0->ipywidgets) (5.10.4)\n",
            "Requirement already satisfied: nbconvert>=5 in /usr/local/lib/python3.11/dist-packages (from notebook>=4.4.1->widgetsnbextension~=3.6.0->ipywidgets) (7.16.6)\n",
            "Requirement already satisfied: Send2Trash>=1.8.0 in /usr/local/lib/python3.11/dist-packages (from notebook>=4.4.1->widgetsnbextension~=3.6.0->ipywidgets) (1.8.3)\n",
            "Requirement already satisfied: terminado>=0.8.3 in /usr/local/lib/python3.11/dist-packages (from notebook>=4.4.1->widgetsnbextension~=3.6.0->ipywidgets) (0.18.1)\n",
            "Requirement already satisfied: prometheus-client in /usr/local/lib/python3.11/dist-packages (from notebook>=4.4.1->widgetsnbextension~=3.6.0->ipywidgets) (0.21.1)\n",
            "Requirement already satisfied: nbclassic>=0.4.7 in /usr/local/lib/python3.11/dist-packages (from notebook>=4.4.1->widgetsnbextension~=3.6.0->ipywidgets) (1.2.0)\n",
            "Requirement already satisfied: ptyprocess>=0.5 in /usr/local/lib/python3.11/dist-packages (from pexpect>4.3->ipython>=4.0.0->ipywidgets) (0.7.0)\n",
            "Requirement already satisfied: wcwidth in /usr/local/lib/python3.11/dist-packages (from prompt-toolkit!=3.0.0,!=3.0.1,<3.1.0,>=2.0.0->ipython>=4.0.0->ipywidgets) (0.2.13)\n",
            "Requirement already satisfied: platformdirs>=2.5 in /usr/local/lib/python3.11/dist-packages (from jupyter-core>=4.6.0->jupyter-client>=6.1.12->ipykernel>=4.5.1->ipywidgets) (4.3.6)\n",
            "Requirement already satisfied: notebook-shim>=0.2.3 in /usr/local/lib/python3.11/dist-packages (from nbclassic>=0.4.7->notebook>=4.4.1->widgetsnbextension~=3.6.0->ipywidgets) (0.2.4)\n",
            "Requirement already satisfied: beautifulsoup4 in /usr/local/lib/python3.11/dist-packages (from nbconvert>=5->notebook>=4.4.1->widgetsnbextension~=3.6.0->ipywidgets) (4.13.3)\n",
            "Requirement already satisfied: bleach!=5.0.0 in /usr/local/lib/python3.11/dist-packages (from bleach[css]!=5.0.0->nbconvert>=5->notebook>=4.4.1->widgetsnbextension~=3.6.0->ipywidgets) (6.2.0)\n",
            "Requirement already satisfied: defusedxml in /usr/local/lib/python3.11/dist-packages (from nbconvert>=5->notebook>=4.4.1->widgetsnbextension~=3.6.0->ipywidgets) (0.7.1)\n",
            "Requirement already satisfied: jupyterlab-pygments in /usr/local/lib/python3.11/dist-packages (from nbconvert>=5->notebook>=4.4.1->widgetsnbextension~=3.6.0->ipywidgets) (0.3.0)\n",
            "Requirement already satisfied: markupsafe>=2.0 in /usr/local/lib/python3.11/dist-packages (from nbconvert>=5->notebook>=4.4.1->widgetsnbextension~=3.6.0->ipywidgets) (3.0.2)\n",
            "Requirement already satisfied: mistune<4,>=2.0.3 in /usr/local/lib/python3.11/dist-packages (from nbconvert>=5->notebook>=4.4.1->widgetsnbextension~=3.6.0->ipywidgets) (3.1.2)\n",
            "Requirement already satisfied: nbclient>=0.5.0 in /usr/local/lib/python3.11/dist-packages (from nbconvert>=5->notebook>=4.4.1->widgetsnbextension~=3.6.0->ipywidgets) (0.10.2)\n",
            "Requirement already satisfied: pandocfilters>=1.4.1 in /usr/local/lib/python3.11/dist-packages (from nbconvert>=5->notebook>=4.4.1->widgetsnbextension~=3.6.0->ipywidgets) (1.5.1)\n",
            "Requirement already satisfied: fastjsonschema>=2.15 in /usr/local/lib/python3.11/dist-packages (from nbformat->notebook>=4.4.1->widgetsnbextension~=3.6.0->ipywidgets) (2.21.1)\n",
            "Requirement already satisfied: jsonschema>=2.6 in /usr/local/lib/python3.11/dist-packages (from nbformat->notebook>=4.4.1->widgetsnbextension~=3.6.0->ipywidgets) (4.23.0)\n",
            "Requirement already satisfied: argon2-cffi-bindings in /usr/local/lib/python3.11/dist-packages (from argon2-cffi->notebook>=4.4.1->widgetsnbextension~=3.6.0->ipywidgets) (21.2.0)\n",
            "Requirement already satisfied: webencodings in /usr/local/lib/python3.11/dist-packages (from bleach!=5.0.0->bleach[css]!=5.0.0->nbconvert>=5->notebook>=4.4.1->widgetsnbextension~=3.6.0->ipywidgets) (0.5.1)\n",
            "Requirement already satisfied: tinycss2<1.5,>=1.1.0 in /usr/local/lib/python3.11/dist-packages (from bleach[css]!=5.0.0->nbconvert>=5->notebook>=4.4.1->widgetsnbextension~=3.6.0->ipywidgets) (1.4.0)\n",
            "Requirement already satisfied: attrs>=22.2.0 in /usr/local/lib/python3.11/dist-packages (from jsonschema>=2.6->nbformat->notebook>=4.4.1->widgetsnbextension~=3.6.0->ipywidgets) (25.1.0)\n",
            "Requirement already satisfied: jsonschema-specifications>=2023.03.6 in /usr/local/lib/python3.11/dist-packages (from jsonschema>=2.6->nbformat->notebook>=4.4.1->widgetsnbextension~=3.6.0->ipywidgets) (2024.10.1)\n",
            "Requirement already satisfied: referencing>=0.28.4 in /usr/local/lib/python3.11/dist-packages (from jsonschema>=2.6->nbformat->notebook>=4.4.1->widgetsnbextension~=3.6.0->ipywidgets) (0.36.2)\n",
            "Requirement already satisfied: rpds-py>=0.7.1 in /usr/local/lib/python3.11/dist-packages (from jsonschema>=2.6->nbformat->notebook>=4.4.1->widgetsnbextension~=3.6.0->ipywidgets) (0.23.1)\n",
            "Requirement already satisfied: jupyter-server<3,>=1.8 in /usr/local/lib/python3.11/dist-packages (from notebook-shim>=0.2.3->nbclassic>=0.4.7->notebook>=4.4.1->widgetsnbextension~=3.6.0->ipywidgets) (1.24.0)\n",
            "Requirement already satisfied: cffi>=1.0.1 in /usr/local/lib/python3.11/dist-packages (from argon2-cffi-bindings->argon2-cffi->notebook>=4.4.1->widgetsnbextension~=3.6.0->ipywidgets) (1.17.1)\n",
            "Requirement already satisfied: soupsieve>1.2 in /usr/local/lib/python3.11/dist-packages (from beautifulsoup4->nbconvert>=5->notebook>=4.4.1->widgetsnbextension~=3.6.0->ipywidgets) (2.6)\n",
            "Requirement already satisfied: typing-extensions>=4.0.0 in /usr/local/lib/python3.11/dist-packages (from beautifulsoup4->nbconvert>=5->notebook>=4.4.1->widgetsnbextension~=3.6.0->ipywidgets) (4.12.2)\n",
            "Requirement already satisfied: pycparser in /usr/local/lib/python3.11/dist-packages (from cffi>=1.0.1->argon2-cffi-bindings->argon2-cffi->notebook>=4.4.1->widgetsnbextension~=3.6.0->ipywidgets) (2.22)\n",
            "Requirement already satisfied: anyio<4,>=3.1.0 in /usr/local/lib/python3.11/dist-packages (from jupyter-server<3,>=1.8->notebook-shim>=0.2.3->nbclassic>=0.4.7->notebook>=4.4.1->widgetsnbextension~=3.6.0->ipywidgets) (3.7.1)\n",
            "Requirement already satisfied: websocket-client in /usr/local/lib/python3.11/dist-packages (from jupyter-server<3,>=1.8->notebook-shim>=0.2.3->nbclassic>=0.4.7->notebook>=4.4.1->widgetsnbextension~=3.6.0->ipywidgets) (1.8.0)\n",
            "Requirement already satisfied: idna>=2.8 in /usr/local/lib/python3.11/dist-packages (from anyio<4,>=3.1.0->jupyter-server<3,>=1.8->notebook-shim>=0.2.3->nbclassic>=0.4.7->notebook>=4.4.1->widgetsnbextension~=3.6.0->ipywidgets) (3.10)\n",
            "Requirement already satisfied: sniffio>=1.1 in /usr/local/lib/python3.11/dist-packages (from anyio<4,>=3.1.0->jupyter-server<3,>=1.8->notebook-shim>=0.2.3->nbclassic>=0.4.7->notebook>=4.4.1->widgetsnbextension~=3.6.0->ipywidgets) (1.3.1)\n"
          ]
        }
      ]
    },
    {
      "cell_type": "markdown",
      "source": [
        "# กำหนด Paths และ Global Variables"
      ],
      "metadata": {
        "id": "yop_varJwY1u"
      }
    },
    {
      "cell_type": "code",
      "source": [
        "import os\n",
        "\n",
        "BASE_DIR = os.getcwd()\n",
        "MODEL_DIR = os.path.join(BASE_DIR, \"model\")\n",
        "CLASSIFICATION_MODEL_PATH = os.path.join(MODEL_DIR, \"/content/drive/MyDrive/Colab Notebooks/rice-disease-dignosis/model/best_model_v5.h5\")\n",
        "FILTER_MODEL_PATH = os.path.join(MODEL_DIR, \"/content/drive/MyDrive/Colab Notebooks/rice-disease-dignosis/model/filter_model.h5\")\n",
        "CSV_PATH = os.path.join(BASE_DIR, \"/content/drive/MyDrive/Colab Notebooks/rice-disease-dignosis/disease_info.csv\")\n",
        "UPLOADED_IMAGE_PATH = \"uploaded_image.png\"  # ชื่อไฟล์ภาพที่อัปโหลด"
      ],
      "metadata": {
        "id": "_wjkD5NuwcSD"
      },
      "execution_count": null,
      "outputs": []
    },
    {
      "cell_type": "markdown",
      "source": [
        "# ฟังก์ชันที่เกี่ยวกับ Model"
      ],
      "metadata": {
        "id": "72R50vPywpHZ"
      }
    },
    {
      "cell_type": "code",
      "source": [
        "import tensorflow as tf\n",
        "from PIL import Image\n",
        "import numpy as np\n",
        "\n",
        "def is_image_usable(image_path, threshold=0.5):\n",
        "    \"\"\"\n",
        "    ใช้ filter model เพื่อตรวจสอบว่าภาพที่อัปโหลดมีคุณภาพเพียงพอที่จะนำไปวิเคราะห์หรือไม่\n",
        "    คืนค่า (True, probability) หากผ่านเกณฑ์ และ (False, probability) หากไม่ผ่าน\n",
        "    \"\"\"\n",
        "    filter_model = tf.keras.models.load_model(FILTER_MODEL_PATH)\n",
        "\n",
        "    # Preprocess ภาพ (ปรับขนาดและ normalization ตามที่ filter model ต้องการ)\n",
        "    img = Image.open(image_path).convert(\"RGB\")\n",
        "    img = img.resize((224, 224))  # ปรับขนาดให้ตรงกับที่โมเดลต้องการ\n",
        "    img_array = np.array(img) / 255.0\n",
        "    img_array = np.expand_dims(img_array, axis=0)\n",
        "\n",
        "    # รัน inference\n",
        "    prediction = filter_model.predict(img_array)\n",
        "    # สมมุติว่า output เป็น probability ที่ภาพใช้งานได้ (index 0)\n",
        "    usable_prob = float(prediction[0][0])\n",
        "    if usable_prob >= threshold:\n",
        "        return True, usable_prob\n",
        "    else:\n",
        "        return False, usable_prob\n",
        "\n",
        "def run_classification_model(image_path):\n",
        "    \"\"\"\n",
        "    ใช้ classification model (EfficientNet) เพื่อตรวจจับโรคจากภาพ\n",
        "    คืนค่าเป็น dictionary mapping ชื่อโรคกับค่าความน่าจะเป็น\n",
        "    \"\"\"\n",
        "    classification_model = tf.keras.models.load_model(CLASSIFICATION_MODEL_PATH)\n",
        "\n",
        "    # Preprocess ภาพ (ปรับขนาดและ normalization)\n",
        "    img = Image.open(image_path).convert(\"RGB\")\n",
        "    img = img.resize((224, 224))\n",
        "    img_array = np.array(img) / 255.0\n",
        "    img_array = np.expand_dims(img_array, axis=0)\n",
        "\n",
        "    preds = classification_model.predict(img_array)\n",
        "    # สมมุติว่าโมเดลทำนายออกมาเป็น array ของความน่าจะเป็นสำหรับโรค 4 ชนิด\n",
        "    disease_names = [\"Bacterial leaf blight\", \"Blast\", \"Brown spot\", \"Sheath blight\"]\n",
        "    pred_dict = {name: float(prob) for name, prob in zip(disease_names, preds[0])}\n",
        "    return pred_dict\n"
      ],
      "metadata": {
        "id": "VUJHOhPFwiMv"
      },
      "execution_count": null,
      "outputs": []
    },
    {
      "cell_type": "markdown",
      "source": [
        "# ฟังก์ชันสำหรับสร้างผลลัพธ์และ Report PDF"
      ],
      "metadata": {
        "id": "dppdHhm5wtAg"
      }
    },
    {
      "cell_type": "code",
      "source": [
        "import matplotlib.pyplot as plt\n",
        "from fpdf import FPDF\n",
        "from datetime import datetime\n",
        "\n",
        "def generate_confidence_chart(predictions, output_filename=\"confidence_chart.png\"):\n",
        "    disease_names = list(predictions.keys())\n",
        "    conf_values = list(predictions.values())\n",
        "    plt.figure(figsize=(8,4))\n",
        "    plt.bar(disease_names, conf_values, color='skyblue')\n",
        "    plt.title(\"ระดับความมั่นใจในการวิเคราะห์โรค\")\n",
        "    plt.xlabel(\"โรค\")\n",
        "    plt.ylabel(\"ความมั่นใจ\")\n",
        "    plt.ylim(0, 1)\n",
        "    plt.tight_layout()\n",
        "    plt.savefig(output_filename)\n",
        "    plt.close()\n",
        "\n",
        "def generate_pdf_report(selected_diseases, predictions, df, image_path=UPLOADED_IMAGE_PATH):\n",
        "    # สร้างกราฟระดับความมั่นใจและบันทึกเป็นไฟล์ภาพ\n",
        "    generate_confidence_chart(predictions)\n",
        "\n",
        "    pdf = FPDF()\n",
        "    # --- หน้า 1: หน้าปก, ผลการวิเคราะห์ และภาพที่ใช้วิเคราะห์ ---\n",
        "    pdf.add_page()\n",
        "    pdf.set_font(\"Arial\", 'B', 20)\n",
        "    pdf.cell(0, 15, \"รายงานผลวิเคราะห์โรคใบข้าว\", ln=True, align=\"C\")\n",
        "    pdf.ln(5)\n",
        "    pdf.set_font(\"Arial\", '', 12)\n",
        "    pdf.cell(0, 10, \"วันที่: \" + datetime.now().strftime(\"%Y-%m-%d %H:%M:%S\"), ln=True, align=\"C\")\n",
        "    pdf.ln(10)\n",
        "\n",
        "    if os.path.exists(image_path):\n",
        "        pdf.cell(0, 10, \"ภาพที่ใช้ในการวิเคราะห์:\", ln=True)\n",
        "        pdf.image(image_path, x=10, y=pdf.get_y(), w=pdf.epw)\n",
        "        pdf.ln(60)\n",
        "\n",
        "    pdf.set_font(\"Arial\", 'B', 14)\n",
        "    pdf.cell(0, 10, \"ผลการวิเคราะห์:\", ln=True)\n",
        "    pdf.ln(5)\n",
        "    pdf.set_font(\"Arial\", '', 12)\n",
        "    for disease, conf in predictions.items():\n",
        "        pdf.cell(0, 10, f\"{disease}: {conf*100:.2f}%\", ln=True)\n",
        "    pdf.ln(10)\n",
        "\n",
        "    pdf.cell(0, 10, \"กราฟระดับความมั่นใจ:\", ln=True)\n",
        "    pdf.ln(5)\n",
        "    pdf.image(\"confidence_chart.png\", x=10, y=pdf.get_y(), w=pdf.epw)\n",
        "    pdf.ln(60)\n",
        "\n",
        "    # --- หน้า 2: รายละเอียดคำแนะนำสำหรับโรคที่เลือก ---\n",
        "    pdf.add_page()\n",
        "    pdf.set_font(\"Arial\", 'B', 14)\n",
        "    pdf.cell(0, 10, \"ข้อมูลคำแนะนำเฉพาะด้าน\", ln=True)\n",
        "    pdf.ln(5)\n",
        "    pdf.set_font(\"Arial\", '', 12)\n",
        "    for disease in selected_diseases:\n",
        "        row = df[df['Disease'] == disease]\n",
        "        if not row.empty:\n",
        "            row = row.iloc[0]\n",
        "            pdf.cell(0, 10, f\"โรค: {disease}\", ln=True)\n",
        "            pdf.cell(0, 10, f\"Cause: {row['Cause']}\", ln=True)\n",
        "            pdf.cell(0, 10, f\"Symptom: {row['Symptom']}\", ln=True)\n",
        "            pdf.cell(0, 10, f\"Prevention: {row['Prevention']}\", ln=True)\n",
        "            pdf.cell(0, 10, f\"Control: {row['Control']}\", ln=True)\n",
        "            pdf.cell(0, 10, f\"Recovery: {row['Recovery']}\", ln=True)\n",
        "            pdf.cell(0, 10, f\"Solution: {row['Solution']}\", ln=True)\n",
        "            # ลิงก์ค้นหาข้อมูลเพิ่มเติม\n",
        "            link = f\"https://www.google.com/search?q={disease.replace(' ', '+')}\"\n",
        "            pdf.cell(0, 10, f\"ค้นหาข้อมูลเพิ่มเติม: {link}\", ln=True, link=link)\n",
        "            pdf.ln(10)\n",
        "    output_filename = \"rice_disease_report.pdf\"\n",
        "    pdf.output(output_filename)\n",
        "    print(\"รายงาน PDF ถูกสร้างและบันทึกเป็น\", output_filename)"
      ],
      "metadata": {
        "id": "WOEgm4TQwqxJ"
      },
      "execution_count": null,
      "outputs": []
    },
    {
      "cell_type": "markdown",
      "source": [
        "# ส่วน UI และ Integration ให้ผู้ใช้ใช้งาน"
      ],
      "metadata": {
        "id": "b3UosOo4wzU0"
      }
    },
    {
      "cell_type": "code",
      "source": [
        "import ipywidgets as widgets\n",
        "from IPython.display import display, Image  # Import Image จาก IPython.display\n",
        "from PIL import Image as PILImage  # เปลี่ยนชื่อ Image ของ PIL เพื่อลดความสับสน\n",
        "import pandas as pd\n",
        "import tensorflow as tf\n",
        "\n",
        "# ลงทะเบียน mse ให้ Keras รู้จัก\n",
        "# @tf.keras.saving.register_keras_serializable()\n",
        "def mse(y_true, y_pred):\n",
        "    return tf.keras.losses.mean_squared_error(y_true, y_pred)\n",
        "\n",
        "# โหลดโมเดล Filter Model\n",
        "FILTER_MODEL_PATH = \"/content/one_class_autoencoder.h5\"\n",
        "try:\n",
        "    filter_model = tf.keras.models.load_model(FILTER_MODEL_PATH, custom_objects={'mse': mse})\n",
        "    print(\"✅ โหลดโมเดลตรวจสอบภาพสำเร็จ\")\n",
        "except Exception as e:\n",
        "    print(f\"❌ ไม่สามารถโหลดโมเดลตรวจสอบภาพ: {e}\")\n",
        "    filter_model = None\n",
        "\n",
        "\n",
        "# โหลดข้อมูลคำแนะนำจากไฟล์ CSV\n",
        "df = pd.read_csv(CSV_PATH)\n",
        "\n",
        "# --- 5.1 อัปโหลดภาพ ---\n",
        "upload_widget = widgets.FileUpload(accept='image/*', multiple=False)\n",
        "display(upload_widget)\n",
        "\n",
        "# Global variable สำหรับเก็บผลลัพธ์จากการวิเคราะห์\n",
        "predictions = {}\n",
        "filtered_diseases = {}\n",
        "\n",
        "def handle_upload(change):\n",
        "    if upload_widget.value:\n",
        "        # บันทึกภาพที่อัปโหลด\n",
        "        for filename, file_info in upload_widget.value.items():\n",
        "            with open(UPLOADED_IMAGE_PATH, 'wb') as f:\n",
        "                f.write(file_info['content'])\n",
        "            print(f\"Uploaded image saved as '{UPLOADED_IMAGE_PATH}'\")\n",
        "\n",
        "            # ใช้ IPython.display.Image เพื่อแสดงภาพ\n",
        "            display(Image(data=file_info['content']))\n",
        "\n",
        "            # --- ตรวจสอบคุณภาพภาพด้วย Filter Model ---\n",
        "            usable, prob = is_image_usable(UPLOADED_IMAGE_PATH)\n",
        "            if not usable:\n",
        "                print(f\"\\nภาพที่อัปโหลดไม่ผ่านเกณฑ์ (ความน่าจะเป็นใช้งานได้: {prob:.2f}). กรุณาถ่ายรูปใหม่.\")\n",
        "            else:\n",
        "                print(f\"\\nภาพที่อัปโหลดผ่านเกณฑ์ (ความน่าจะเป็นใช้งานได้: {prob:.2f}).\")\n",
        "\n",
        "                # --- รัน Classification Model ---\n",
        "                global predictions, filtered_diseases\n",
        "                predictions = run_classification_model(UPLOADED_IMAGE_PATH)\n",
        "                print(\"\\n🔍 ผลการวิเคราะห์จากโมเดล:\")\n",
        "                for disease, conf in predictions.items():\n",
        "                    print(f\"{disease}: {conf*100:.2f}%\")\n",
        "\n",
        "                # คัดกรองโรคที่มี confidence > 0.5\n",
        "                filtered_diseases = {d: conf for d, conf in predictions.items() if conf > 0.5}\n",
        "                print(\"\\nโรคที่มี confidence > 0.5:\")\n",
        "                for disease in filtered_diseases:\n",
        "                    print(disease)\n",
        "\n",
        "                # อัปเดตตัวเลือกใน widget สำหรับดูข้อมูลรายละเอียดและ Report\n",
        "                update_disease_options()\n",
        "\n",
        "upload_widget.observe(handle_upload, names='value')\n",
        "\n",
        "# --- 5.2 Widget สำหรับเลือกโรคเพื่อดูรายละเอียดเพิ่มเติม ---\n",
        "disease_select = widgets.SelectMultiple(\n",
        "    options=[],  # จะอัปเดตหลังจากได้ผลลัพธ์จากโมเดล\n",
        "    description='เลือกโรคสำหรับข้อมูลเพิ่มเติม:',\n",
        "    style={'description_width': 'initial'},\n",
        "    rows=4\n",
        ")\n",
        "display(disease_select)\n",
        "\n",
        "def update_disease_options():\n",
        "    if filtered_diseases:\n",
        "        options = list(filtered_diseases.keys())\n",
        "        disease_select.options = options\n",
        "        pdf_disease_select.options = options\n",
        "\n",
        "# ปุ่มแสดงข้อมูลรายละเอียด\n",
        "detailed_info_button = widgets.Button(\n",
        "    description=\"แสดงข้อมูลรายละเอียดสำหรับโรคที่เลือก\",\n",
        "    button_style='info'\n",
        ")\n",
        "def show_detailed_info(b):\n",
        "    selected = list(disease_select.value)\n",
        "    if not selected:\n",
        "        print(\"กรุณาเลือกโรคที่ต้องการดูข้อมูลเพิ่มเติม\")\n",
        "        return\n",
        "    for disease in selected:\n",
        "        row = df[df['Disease'] == disease]\n",
        "        if not row.empty:\n",
        "            row = row.iloc[0]\n",
        "            print(\"\\n--------------------------------\")\n",
        "            print(f\"ข้อมูลสำหรับโรค: {disease}\")\n",
        "            print(f\"Cause: {row['Cause']}\")\n",
        "            print(f\"Symptom: {row['Symptom']}\")\n",
        "            print(f\"Prevention: {row['Prevention']}\")\n",
        "            print(f\"Control: {row['Control']}\")\n",
        "            print(f\"Recovery: {row['Recovery']}\")\n",
        "            print(f\"Solution: {row['Solution']}\")\n",
        "            print(f\"ค้นหาข้อมูลเพิ่มเติม: https://www.google.com/search?q={disease.replace(' ', '+')}\")\n",
        "        else:\n",
        "            print(f\"ไม่พบข้อมูลสำหรับโรค: {disease}\")\n",
        "\n",
        "detailed_info_button.on_click(show_detailed_info)\n",
        "display(detailed_info_button)\n",
        "\n",
        "# --- 5.3 Widget สำหรับเลือกโรคที่ต้องการสร้าง Report PDF ---\n",
        "pdf_disease_select = widgets.SelectMultiple(\n",
        "    options=[],  # จะอัปเดตหลังจากได้ผลลัพธ์จากโมเดล\n",
        "    description='เลือกโรคสำหรับ Report:',\n",
        "    style={'description_width': 'initial'},\n",
        "    rows=4\n",
        ")\n",
        "display(pdf_disease_select)\n",
        "\n",
        "# ปุ่มสำหรับสร้าง Report PDF\n",
        "pdf_button = widgets.Button(\n",
        "    description=\"สร้างรายงาน PDF\",\n",
        "    button_style='success'\n",
        ")\n",
        "def generate_report(b):\n",
        "    selected_diseases = list(pdf_disease_select.value)\n",
        "    if not selected_diseases:\n",
        "        print(\"กรุณาเลือกโรคที่ต้องการสร้างรายงาน\")\n",
        "        return\n",
        "    generate_pdf_report(selected_diseases, predictions, df, UPLOADED_IMAGE_PATH)\n",
        "\n",
        "pdf_button.on_click(generate_report)\n",
        "display(pdf_button)\n"
      ],
      "metadata": {
        "id": "Zwzy-giLwyQM",
        "colab": {
          "base_uri": "https://localhost:8080/",
          "height": 599,
          "referenced_widgets": [
            "fa83ecd7a4ce4a1fa8659f73bd6220b5",
            "76c34bca4b5a4a5b8886f2e10d16a4be",
            "e54212c4823949f49131a9b96ab263ed",
            "28c710233647453db2ff89a99836a087",
            "ec64d3b4300c44df9d4f729c3f47d4ee",
            "7240824538634a87a7ce26154e383552",
            "a81151a9a2844a0dae019c033a153e3b",
            "23a72babe1eb4cb7984b2e9b13a7c82b",
            "7a95c912db6e45b88daa90dc6169c4fd",
            "6deb4106696a4e99a72d8e3ff777eb0b",
            "0ec5f910c72a45bbb61f99c53e42cb88",
            "b563f4cb87db4c0fabce74141215d5ce",
            "acbab823943a4929bb2365fc14777157",
            "238085352b284477b8ada76a847b4692",
            "427f1051b9a642dd92981dd733d7c7d5"
          ]
        },
        "outputId": "c60568d8-815e-4183-c835-0f949c2d2b7c"
      },
      "execution_count": null,
      "outputs": [
        {
          "output_type": "stream",
          "name": "stdout",
          "text": [
            "❌ ไม่สามารถโหลดโมเดลตรวจสอบภาพ: [Errno 2] Unable to synchronously open file (unable to open file: name = '/content/one_class_autoencoder.h5', errno = 2, error message = 'No such file or directory', flags = 0, o_flags = 0)\n"
          ]
        },
        {
          "output_type": "display_data",
          "data": {
            "text/plain": [
              "FileUpload(value={}, accept='image/*', description='Upload')"
            ],
            "application/vnd.jupyter.widget-view+json": {
              "version_major": 2,
              "version_minor": 0,
              "model_id": "fa83ecd7a4ce4a1fa8659f73bd6220b5"
            }
          },
          "metadata": {}
        },
        {
          "output_type": "display_data",
          "data": {
            "text/plain": [
              "SelectMultiple(description='เลือกโรคสำหรับข้อมูลเพิ่มเติม:', options=(), rows=4, style=DescriptionStyle(descri…"
            ],
            "application/vnd.jupyter.widget-view+json": {
              "version_major": 2,
              "version_minor": 0,
              "model_id": "28c710233647453db2ff89a99836a087"
            }
          },
          "metadata": {}
        },
        {
          "output_type": "display_data",
          "data": {
            "text/plain": [
              "Button(button_style='info', description='แสดงข้อมูลรายละเอียดสำหรับโรคที่เลือก', style=ButtonStyle())"
            ],
            "application/vnd.jupyter.widget-view+json": {
              "version_major": 2,
              "version_minor": 0,
              "model_id": "a81151a9a2844a0dae019c033a153e3b"
            }
          },
          "metadata": {}
        },
        {
          "output_type": "display_data",
          "data": {
            "text/plain": [
              "SelectMultiple(description='เลือกโรคสำหรับ Report:', options=(), rows=4, style=DescriptionStyle(description_wi…"
            ],
            "application/vnd.jupyter.widget-view+json": {
              "version_major": 2,
              "version_minor": 0,
              "model_id": "6deb4106696a4e99a72d8e3ff777eb0b"
            }
          },
          "metadata": {}
        },
        {
          "output_type": "display_data",
          "data": {
            "text/plain": [
              "Button(button_style='success', description='สร้างรายงาน PDF', style=ButtonStyle())"
            ],
            "application/vnd.jupyter.widget-view+json": {
              "version_major": 2,
              "version_minor": 0,
              "model_id": "acbab823943a4929bb2365fc14777157"
            }
          },
          "metadata": {}
        },
        {
          "output_type": "stream",
          "name": "stdout",
          "text": [
            "Uploaded image saved as 'uploaded_image.png'\n"
          ]
        },
        {
          "output_type": "display_data",
          "data": {
            "image/jpeg": "[encoded data removed]",
            "text/plain": [
              "<IPython.core.display.Image object>"
            ]
          },
          "metadata": {}
        },
        {
          "output_type": "stream",
          "name": "stdout",
          "text": [
            "❌ โมเดลตรวจสอบภาพยังไม่ได้ถูกโหลด\n",
            "\n",
            "ภาพที่อัปโหลดไม่ผ่านเกณฑ์ (ความน่าจะเป็นใช้งานได้: 0.00). กรุณาถ่ายรูปใหม่.\n"
          ]
        }
      ]
    },
    {
      "cell_type": "code",
      "source": [
        "# pip install tensorflow==2.15.0"
      ],
      "metadata": {
        "colab": {
          "base_uri": "https://localhost:8080/",
          "height": 1000
        },
        "id": "X-TqkOcdY66J",
        "outputId": "7f1849c1-d7e0-4725-ca18-dc688c80d8df"
      },
      "execution_count": null,
      "outputs": [
        {
          "output_type": "stream",
          "name": "stdout",
          "text": [
            "Collecting tensorflow==2.15.0\n",
            "  Downloading tensorflow-2.15.0-cp311-cp311-manylinux_2_17_x86_64.manylinux2014_x86_64.whl.metadata (4.4 kB)\n",
            "Requirement already satisfied: absl-py>=1.0.0 in /usr/local/lib/python3.11/dist-packages (from tensorflow==2.15.0) (1.4.0)\n",
            "Requirement already satisfied: astunparse>=1.6.0 in /usr/local/lib/python3.11/dist-packages (from tensorflow==2.15.0) (1.6.3)\n",
            "Requirement already satisfied: flatbuffers>=23.5.26 in /usr/local/lib/python3.11/dist-packages (from tensorflow==2.15.0) (25.2.10)\n",
            "Requirement already satisfied: gast!=0.5.0,!=0.5.1,!=0.5.2,>=0.2.1 in /usr/local/lib/python3.11/dist-packages (from tensorflow==2.15.0) (0.6.0)\n",
            "Requirement already satisfied: google-pasta>=0.1.1 in /usr/local/lib/python3.11/dist-packages (from tensorflow==2.15.0) (0.2.0)\n",
            "Requirement already satisfied: h5py>=2.9.0 in /usr/local/lib/python3.11/dist-packages (from tensorflow==2.15.0) (3.12.1)\n",
            "Requirement already satisfied: libclang>=13.0.0 in /usr/local/lib/python3.11/dist-packages (from tensorflow==2.15.0) (18.1.1)\n",
            "Collecting ml-dtypes~=0.2.0 (from tensorflow==2.15.0)\n",
            "  Downloading ml_dtypes-0.2.0-cp311-cp311-manylinux_2_17_x86_64.manylinux2014_x86_64.whl.metadata (20 kB)\n",
            "Requirement already satisfied: numpy<2.0.0,>=1.23.5 in /usr/local/lib/python3.11/dist-packages (from tensorflow==2.15.0) (1.26.4)\n",
            "Requirement already satisfied: opt-einsum>=2.3.2 in /usr/local/lib/python3.11/dist-packages (from tensorflow==2.15.0) (3.4.0)\n",
            "Requirement already satisfied: packaging in /usr/local/lib/python3.11/dist-packages (from tensorflow==2.15.0) (24.2)\n",
            "Requirement already satisfied: protobuf!=4.21.0,!=4.21.1,!=4.21.2,!=4.21.3,!=4.21.4,!=4.21.5,<5.0.0dev,>=3.20.3 in /usr/local/lib/python3.11/dist-packages (from tensorflow==2.15.0) (4.25.6)\n",
            "Requirement already satisfied: setuptools in /usr/local/lib/python3.11/dist-packages (from tensorflow==2.15.0) (75.1.0)\n",
            "Requirement already satisfied: six>=1.12.0 in /usr/local/lib/python3.11/dist-packages (from tensorflow==2.15.0) (1.17.0)\n",
            "Requirement already satisfied: termcolor>=1.1.0 in /usr/local/lib/python3.11/dist-packages (from tensorflow==2.15.0) (2.5.0)\n",
            "Requirement already satisfied: typing-extensions>=3.6.6 in /usr/local/lib/python3.11/dist-packages (from tensorflow==2.15.0) (4.12.2)\n",
            "Collecting wrapt<1.15,>=1.11.0 (from tensorflow==2.15.0)\n",
            "  Downloading wrapt-1.14.1-cp311-cp311-manylinux_2_5_x86_64.manylinux1_x86_64.manylinux_2_17_x86_64.manylinux2014_x86_64.whl.metadata (6.7 kB)\n",
            "Requirement already satisfied: tensorflow-io-gcs-filesystem>=0.23.1 in /usr/local/lib/python3.11/dist-packages (from tensorflow==2.15.0) (0.37.1)\n",
            "Requirement already satisfied: grpcio<2.0,>=1.24.3 in /usr/local/lib/python3.11/dist-packages (from tensorflow==2.15.0) (1.70.0)\n",
            "Collecting tensorboard<2.16,>=2.15 (from tensorflow==2.15.0)\n",
            "  Downloading tensorboard-2.15.2-py3-none-any.whl.metadata (1.7 kB)\n",
            "Collecting tensorflow-estimator<2.16,>=2.15.0 (from tensorflow==2.15.0)\n",
            "  Downloading tensorflow_estimator-2.15.0-py2.py3-none-any.whl.metadata (1.3 kB)\n",
            "Collecting keras<2.16,>=2.15.0 (from tensorflow==2.15.0)\n",
            "  Downloading keras-2.15.0-py3-none-any.whl.metadata (2.4 kB)\n",
            "Requirement already satisfied: wheel<1.0,>=0.23.0 in /usr/local/lib/python3.11/dist-packages (from astunparse>=1.6.0->tensorflow==2.15.0) (0.45.1)\n",
            "Requirement already satisfied: google-auth<3,>=1.6.3 in /usr/local/lib/python3.11/dist-packages (from tensorboard<2.16,>=2.15->tensorflow==2.15.0) (2.38.0)\n",
            "Requirement already satisfied: google-auth-oauthlib<2,>=0.5 in /usr/local/lib/python3.11/dist-packages (from tensorboard<2.16,>=2.15->tensorflow==2.15.0) (1.2.1)\n",
            "Requirement already satisfied: markdown>=2.6.8 in /usr/local/lib/python3.11/dist-packages (from tensorboard<2.16,>=2.15->tensorflow==2.15.0) (3.7)\n",
            "Requirement already satisfied: requests<3,>=2.21.0 in /usr/local/lib/python3.11/dist-packages (from tensorboard<2.16,>=2.15->tensorflow==2.15.0) (2.32.3)\n",
            "Requirement already satisfied: tensorboard-data-server<0.8.0,>=0.7.0 in /usr/local/lib/python3.11/dist-packages (from tensorboard<2.16,>=2.15->tensorflow==2.15.0) (0.7.2)\n",
            "Requirement already satisfied: werkzeug>=1.0.1 in /usr/local/lib/python3.11/dist-packages (from tensorboard<2.16,>=2.15->tensorflow==2.15.0) (3.1.3)\n",
            "Requirement already satisfied: cachetools<6.0,>=2.0.0 in /usr/local/lib/python3.11/dist-packages (from google-auth<3,>=1.6.3->tensorboard<2.16,>=2.15->tensorflow==2.15.0) (5.5.2)\n",
            "Requirement already satisfied: pyasn1-modules>=0.2.1 in /usr/local/lib/python3.11/dist-packages (from google-auth<3,>=1.6.3->tensorboard<2.16,>=2.15->tensorflow==2.15.0) (0.4.1)\n",
            "Requirement already satisfied: rsa<5,>=3.1.4 in /usr/local/lib/python3.11/dist-packages (from google-auth<3,>=1.6.3->tensorboard<2.16,>=2.15->tensorflow==2.15.0) (4.9)\n",
            "Requirement already satisfied: requests-oauthlib>=0.7.0 in /usr/local/lib/python3.11/dist-packages (from google-auth-oauthlib<2,>=0.5->tensorboard<2.16,>=2.15->tensorflow==2.15.0) (2.0.0)\n",
            "Requirement already satisfied: charset-normalizer<4,>=2 in /usr/local/lib/python3.11/dist-packages (from requests<3,>=2.21.0->tensorboard<2.16,>=2.15->tensorflow==2.15.0) (3.4.1)\n",
            "Requirement already satisfied: idna<4,>=2.5 in /usr/local/lib/python3.11/dist-packages (from requests<3,>=2.21.0->tensorboard<2.16,>=2.15->tensorflow==2.15.0) (3.10)\n",
            "Requirement already satisfied: urllib3<3,>=1.21.1 in /usr/local/lib/python3.11/dist-packages (from requests<3,>=2.21.0->tensorboard<2.16,>=2.15->tensorflow==2.15.0) (2.3.0)\n",
            "Requirement already satisfied: certifi>=2017.4.17 in /usr/local/lib/python3.11/dist-packages (from requests<3,>=2.21.0->tensorboard<2.16,>=2.15->tensorflow==2.15.0) (2025.1.31)\n",
            "Requirement already satisfied: MarkupSafe>=2.1.1 in /usr/local/lib/python3.11/dist-packages (from werkzeug>=1.0.1->tensorboard<2.16,>=2.15->tensorflow==2.15.0) (3.0.2)\n",
            "Requirement already satisfied: pyasn1<0.7.0,>=0.4.6 in /usr/local/lib/python3.11/dist-packages (from pyasn1-modules>=0.2.1->google-auth<3,>=1.6.3->tensorboard<2.16,>=2.15->tensorflow==2.15.0) (0.6.1)\n",
            "Requirement already satisfied: oauthlib>=3.0.0 in /usr/local/lib/python3.11/dist-packages (from requests-oauthlib>=0.7.0->google-auth-oauthlib<2,>=0.5->tensorboard<2.16,>=2.15->tensorflow==2.15.0) (3.2.2)\n",
            "Downloading tensorflow-2.15.0-cp311-cp311-manylinux_2_17_x86_64.manylinux2014_x86_64.whl (475.3 MB)\n",
            "\u001b[2K   \u001b[90m━━━━━━━━━━━━━━━━━━━━━━━━━━━━━━━━━━━━━━━━\u001b[0m \u001b[32m475.3/475.3 MB\u001b[0m \u001b[31m1.7 MB/s\u001b[0m eta \u001b[36m0:00:00\u001b[0m\n",
            "\u001b[?25hDownloading keras-2.15.0-py3-none-any.whl (1.7 MB)\n",
            "\u001b[2K   \u001b[90m━━━━━━━━━━━━━━━━━━━━━━━━━━━━━━━━━━━━━━━━\u001b[0m \u001b[32m1.7/1.7 MB\u001b[0m \u001b[31m62.5 MB/s\u001b[0m eta \u001b[36m0:00:00\u001b[0m\n",
            "\u001b[?25hDownloading ml_dtypes-0.2.0-cp311-cp311-manylinux_2_17_x86_64.manylinux2014_x86_64.whl (1.0 MB)\n",
            "\u001b[2K   \u001b[90m━━━━━━━━━━━━━━━━━━━━━━━━━━━━━━━━━━━━━━━━\u001b[0m \u001b[32m1.0/1.0 MB\u001b[0m \u001b[31m51.0 MB/s\u001b[0m eta \u001b[36m0:00:00\u001b[0m\n",
            "\u001b[?25hDownloading tensorboard-2.15.2-py3-none-any.whl (5.5 MB)\n",
            "\u001b[2K   \u001b[90m━━━━━━━━━━━━━━━━━━━━━━━━━━━━━━━━━━━━━━━━\u001b[0m \u001b[32m5.5/5.5 MB\u001b[0m \u001b[31m68.0 MB/s\u001b[0m eta \u001b[36m0:00:00\u001b[0m\n",
            "\u001b[?25hDownloading tensorflow_estimator-2.15.0-py2.py3-none-any.whl (441 kB)\n",
            "\u001b[2K   \u001b[90m━━━━━━━━━━━━━━━━━━━━━━━━━━━━━━━━━━━━━━━━\u001b[0m \u001b[32m442.0/442.0 kB\u001b[0m \u001b[31m34.5 MB/s\u001b[0m eta \u001b[36m0:00:00\u001b[0m\n",
            "\u001b[?25hDownloading wrapt-1.14.1-cp311-cp311-manylinux_2_5_x86_64.manylinux1_x86_64.manylinux_2_17_x86_64.manylinux2014_x86_64.whl (78 kB)\n",
            "\u001b[2K   \u001b[90m━━━━━━━━━━━━━━━━━━━━━━━━━━━━━━━━━━━━━━━━\u001b[0m \u001b[32m78.4/78.4 kB\u001b[0m \u001b[31m5.5 MB/s\u001b[0m eta \u001b[36m0:00:00\u001b[0m\n",
            "\u001b[?25hInstalling collected packages: wrapt, tensorflow-estimator, ml-dtypes, keras, tensorboard, tensorflow\n",
            "  Attempting uninstall: wrapt\n",
            "    Found existing installation: wrapt 1.17.2\n",
            "    Uninstalling wrapt-1.17.2:\n",
            "      Successfully uninstalled wrapt-1.17.2\n",
            "  Attempting uninstall: ml-dtypes\n",
            "    Found existing installation: ml-dtypes 0.4.1\n",
            "    Uninstalling ml-dtypes-0.4.1:\n",
            "      Successfully uninstalled ml-dtypes-0.4.1\n",
            "  Attempting uninstall: keras\n",
            "    Found existing installation: keras 3.8.0\n",
            "    Uninstalling keras-3.8.0:\n",
            "      Successfully uninstalled keras-3.8.0\n",
            "  Attempting uninstall: tensorboard\n",
            "    Found existing installation: tensorboard 2.18.0\n",
            "    Uninstalling tensorboard-2.18.0:\n",
            "      Successfully uninstalled tensorboard-2.18.0\n",
            "  Attempting uninstall: tensorflow\n",
            "    Found existing installation: tensorflow 2.18.0\n",
            "    Uninstalling tensorflow-2.18.0:\n",
            "      Successfully uninstalled tensorflow-2.18.0\n",
            "\u001b[31mERROR: pip's dependency resolver does not currently take into account all the packages that are installed. This behaviour is the source of the following dependency conflicts.\n",
            "tf-keras 2.18.0 requires tensorflow<2.19,>=2.18, but you have tensorflow 2.15.0 which is incompatible.\n",
            "tensorflow-text 2.18.1 requires tensorflow<2.19,>=2.18.0, but you have tensorflow 2.15.0 which is incompatible.\n",
            "tensorstore 0.1.72 requires ml_dtypes>=0.3.1, but you have ml-dtypes 0.2.0 which is incompatible.\u001b[0m\u001b[31m\n",
            "\u001b[0mSuccessfully installed keras-2.15.0 ml-dtypes-0.2.0 tensorboard-2.15.2 tensorflow-2.15.0 tensorflow-estimator-2.15.0 wrapt-1.14.1\n"
          ]
        },
        {
          "output_type": "display_data",
          "data": {
            "application/vnd.colab-display-data+json": {
              "pip_warning": {
                "packages": [
                  "keras",
                  "ml_dtypes",
                  "tensorflow",
                  "wrapt"
                ]
              },
              "id": "f4f34921a646477884c78796981758ed"
            }
          },
          "metadata": {}
        }
      ]
    },
    {
      "cell_type": "code",
      "source": [
        "import tensorflow as tf\n",
        "\n",
        "# โหลดโมเดล Filter Model\n",
        "FILTER_MODEL_PATH = \"/content/drive/MyDrive/Colab Notebooks/rice-disease-dignosis/model/filter_model.h5\"\n",
        "try:\n",
        "    filter_model = tf.keras.models.load_model(\n",
        "        FILTER_MODEL_PATH,\n",
        "        custom_objects={'mse': tf.keras.losses.mean_squared_error}\n",
        "    )\n",
        "    print(\"✅ โหลดโมเดลตรวจสอบภาพสำเร็จ\")\n",
        "except Exception as e:\n",
        "    print(f\"❌ ไม่สามารถโหลดโมเดลตรวจสอบภาพ: {e}\")\n",
        "    filter_model = None"
      ],
      "metadata": {
        "colab": {
          "base_uri": "https://localhost:8080/"
        },
        "id": "L9efimU_ZAFz",
        "outputId": "926a59c3-5301-4a59-fd97-82a5f7ba3adc"
      },
      "execution_count": null,
      "outputs": [
        {
          "output_type": "stream",
          "name": "stdout",
          "text": [
            "❌ ไม่สามารถโหลดโมเดลตรวจสอบภาพ: module 'keras._tf_keras.keras.losses' has no attribute 'mean_squared_error'\n"
          ]
        }
      ]
    },
    {
      "cell_type": "code",
      "source": [
        "import ipywidgets as widgets\n",
        "from IPython.display import display, Image  # ใช้สำหรับแสดงภาพ\n",
        "from PIL import Image as PILImage  # ใช้สำหรับประมวลผลภาพ\n",
        "import numpy as np\n",
        "import pandas as pd\n",
        "import tensorflow as tf  # ใช้สำหรับโหลดโมเดล Keras\n",
        "\n",
        "# โหลดโมเดล Filter Model\n",
        "FILTER_MODEL_PATH = \"/content/drive/MyDrive/Colab Notebooks/rice-disease-dignosis/model/filter_model.h5\"  # เปลี่ยนเป็น path จริงของโมเดล\n",
        "try:\n",
        "    filter_model = tf.keras.models.load_model(FILTER_MODEL_PATH)\n",
        "    print(\"✅ โหลดโมเดลตรวจสอบภาพสำเร็จ\")\n",
        "except Exception as e:\n",
        "    print(f\"❌ ไม่สามารถโหลดโมเดลตรวจสอบภาพ: {e}\")\n",
        "    filter_model = None\n",
        "\n",
        "# โหลดข้อมูลคำแนะนำจากไฟล์ CSV\n",
        "CSV_PATH = \"/content/drive/MyDrive/Colab Notebooks/rice-disease-dignosis/disease_info.csv\"  # เปลี่ยนเป็น path จริงของไฟล์ CSV\n",
        "UPLOADED_IMAGE_PATH = \"uploaded_image.png\"\n",
        "df = pd.read_csv(CSV_PATH)\n",
        "\n",
        "# --- 5.1 อัปโหลดภาพ ---\n",
        "upload_widget = widgets.FileUpload(accept='image/*', multiple=False)\n",
        "display(upload_widget)\n",
        "\n",
        "# Global variable สำหรับเก็บผลลัพธ์จากการวิเคราะห์\n",
        "predictions = {}\n",
        "filtered_diseases = {}\n",
        "\n",
        "def is_image_usable(image_path, threshold=0.5):\n",
        "    \"\"\" ตรวจสอบคุณภาพของภาพด้วยโมเดล \"\"\"\n",
        "    if filter_model is None:\n",
        "        print(\"❌ โมเดลตรวจสอบภาพยังไม่ได้ถูกโหลด\")\n",
        "        return False, 0.0\n",
        "\n",
        "    img = PILImage.open(image_path).convert(\"RGB\")\n",
        "    img = img.resize((224, 224))  # ปรับขนาด\n",
        "    img_array = np.array(img) / 255.0  # Normalization\n",
        "\n",
        "    # ทำนายผลด้วย filter model\n",
        "    prob = filter_model.predict(np.expand_dims(img_array, axis=0))[0][0]\n",
        "    return prob > threshold, prob\n",
        "\n",
        "def handle_upload(change):\n",
        "    if upload_widget.value:\n",
        "        for filename, file_info in upload_widget.value.items():\n",
        "            with open(UPLOADED_IMAGE_PATH, 'wb') as f:\n",
        "                f.write(file_info['content'])\n",
        "            print(f\"📸 Uploaded image saved as '{UPLOADED_IMAGE_PATH}'\")\n",
        "\n",
        "            # แสดงภาพ\n",
        "            display(Image(data=file_info['content']))\n",
        "\n",
        "            # --- ตรวจสอบคุณภาพภาพด้วย Filter Model ---\n",
        "            usable, prob = is_image_usable(UPLOADED_IMAGE_PATH)\n",
        "            if not usable:\n",
        "                print(f\"\\n⚠️ ภาพไม่ผ่านเกณฑ์ (ความน่าจะเป็นใช้งานได้: {prob:.2f}). กรุณาถ่ายรูปใหม่.\")\n",
        "            else:\n",
        "                print(f\"\\n✅ ภาพผ่านเกณฑ์ (ความน่าจะเป็นใช้งานได้: {prob:.2f}).\")\n",
        "\n",
        "                # --- รัน Classification Model ---\n",
        "                global predictions, filtered_diseases\n",
        "                predictions = run_classification_model(UPLOADED_IMAGE_PATH)\n",
        "                print(\"\\n🔍 ผลการวิเคราะห์จากโมเดล:\")\n",
        "                for disease, conf in predictions.items():\n",
        "                    print(f\"{disease}: {conf*100:.2f}%\")\n",
        "\n",
        "                # คัดกรองโรคที่มี confidence > 0.5\n",
        "                filtered_diseases = {d: conf for d, conf in predictions.items() if conf > 0.01}\n",
        "                print(\"\\n✅ โรคที่มี confidence > 0.01:\")\n",
        "                for disease in filtered_diseases:\n",
        "                    print(f\"- {disease}\")\n",
        "\n",
        "                # อัปเดตตัวเลือกใน widget\n",
        "                update_disease_options()\n",
        "\n",
        "upload_widget.observe(handle_upload, names='value')\n",
        "\n",
        "# --- 5.2 Widget สำหรับเลือกโรคเพื่อดูรายละเอียดเพิ่มเติม ---\n",
        "disease_select = widgets.SelectMultiple(\n",
        "    options=[], description='เลือกโรคสำหรับข้อมูลเพิ่มเติม:',\n",
        "    style={'description_width': 'initial'}, rows=4\n",
        ")\n",
        "display(disease_select)\n",
        "\n",
        "def update_disease_options():\n",
        "    \"\"\" อัปเดตตัวเลือกโรคใน widget \"\"\"\n",
        "    if filtered_diseases:\n",
        "        options = list(filtered_diseases.keys())\n",
        "        disease_select.options = options\n",
        "        pdf_disease_select.options = options\n",
        "\n",
        "# ปุ่มแสดงข้อมูลรายละเอียด\n",
        "detailed_info_button = widgets.Button(\n",
        "    description=\"🔎 แสดงข้อมูลโรค\", button_style='info'\n",
        ")\n",
        "\n",
        "def show_detailed_info(b):\n",
        "    selected = list(disease_select.value)\n",
        "    if not selected:\n",
        "        print(\"⚠️ กรุณาเลือกโรคที่ต้องการดูข้อมูลเพิ่มเติม\")\n",
        "        return\n",
        "    for disease in selected:\n",
        "        row = df[df['Disease'] == disease]\n",
        "        if not row.empty:\n",
        "            row = row.iloc[0]\n",
        "            print(\"\\n--------------------------------\")\n",
        "            print(f\"🦠 ข้อมูลสำหรับโรค: {disease}\")\n",
        "            print(f\"📌 สาเหตุ: {row['Cause']}\")\n",
        "            print(f\"⚠️ อาการ: {row['Symptom']}\")\n",
        "            print(f\"🛑 การป้องกัน: {row['Prevention']}\")\n",
        "            print(f\"🩺 การควบคุม: {row['Control']}\")\n",
        "            print(f\"💊 การฟื้นฟู: {row['Recovery']}\")\n",
        "            print(f\"✅ วิธีแก้ไข: {row['Solution']}\")\n",
        "            print(f\"🔎 ค้นหาข้อมูลเพิ่มเติม: https://www.google.com/search?q={disease.replace(' ', '+')}\")\n",
        "        else:\n",
        "            print(f\"❌ ไม่พบข้อมูลสำหรับโรค: {disease}\")\n",
        "\n",
        "detailed_info_button.on_click(show_detailed_info)\n",
        "display(detailed_info_button)\n",
        "\n",
        "# --- 5.3 Widget สำหรับเลือกโรคที่ต้องการสร้าง Report PDF ---\n",
        "pdf_disease_select = widgets.SelectMultiple(\n",
        "    options=[], description='เลือกโรคสำหรับ Report:',\n",
        "    style={'description_width': 'initial'}, rows=4\n",
        ")\n",
        "display(pdf_disease_select)\n",
        "\n",
        "# ปุ่มสำหรับสร้าง Report PDF\n",
        "pdf_button = widgets.Button(\n",
        "    description=\"📄 สร้างรายงาน PDF\", button_style='success'\n",
        ")\n",
        "\n",
        "def generate_report(b):\n",
        "    selected_diseases = list(pdf_disease_select.value)\n",
        "    if not selected_diseases:\n",
        "        print(\"⚠️ กรุณาเลือกโรคที่ต้องการสร้างรายงาน\")\n",
        "        return\n",
        "    generate_pdf_report(selected_diseases, predictions, df, UPLOADED_IMAGE_PATH)\n",
        "\n",
        "pdf_button.on_click(generate_report)\n",
        "display(pdf_button)"
      ],
      "metadata": {
        "colab": {
          "base_uri": "https://localhost:8080/",
          "height": 619,
          "referenced_widgets": [
            "676d1c8cabc84a81af22eaf0b60f2d0a",
            "b87e34671b7b43eca9ff0817d6d6fc2e",
            "2a770ebc5c0a4d30a1be882e82df137c",
            "ecd6ecb616f447ebad4ea961adcc1396",
            "30dbeb3225fb4660a64cc77497065a33",
            "46bbd89d5e0f4047b240fdf5e0eb0cb3",
            "e09dcb18c0164e86a185dc5c75cb2579",
            "4df3b13d73604b2a889f1e334f141e95",
            "4f7cc562720e4263a56bcfad1478b7ef",
            "42337be09dac4559857f55615e9b3ff8",
            "03afa2b330014f41b17e9fdb5533aa7e",
            "1e1c783cb53143d9b32141643a71f1cc",
            "bc0b835d0c8647a89d0b333dba99d116",
            "6e182b5893bf451195a5c1dfa8b394d7",
            "c959d596f2f5418d9915fd8de170a7f0"
          ]
        },
        "id": "PoHrUS9ViGki",
        "outputId": "f6d20dd4-acfa-4417-cafe-a34ca249ca56"
      },
      "execution_count": null,
      "outputs": [
        {
          "output_type": "stream",
          "name": "stdout",
          "text": [
            "❌ ไม่สามารถโหลดโมเดลตรวจสอบภาพ: Could not locate function 'mse'. Make sure custom classes are decorated with `@keras.saving.register_keras_serializable()`. Full object config: {'module': 'keras.metrics', 'class_name': 'function', 'config': 'mse', 'registered_name': 'mse'}\n"
          ]
        },
        {
          "output_type": "display_data",
          "data": {
            "text/plain": [
              "FileUpload(value={}, accept='image/*', description='Upload')"
            ],
            "application/vnd.jupyter.widget-view+json": {
              "version_major": 2,
              "version_minor": 0,
              "model_id": "676d1c8cabc84a81af22eaf0b60f2d0a"
            }
          },
          "metadata": {}
        },
        {
          "output_type": "display_data",
          "data": {
            "text/plain": [
              "SelectMultiple(description='เลือกโรคสำหรับข้อมูลเพิ่มเติม:', options=(), rows=4, style=DescriptionStyle(descri…"
            ],
            "application/vnd.jupyter.widget-view+json": {
              "version_major": 2,
              "version_minor": 0,
              "model_id": "ecd6ecb616f447ebad4ea961adcc1396"
            }
          },
          "metadata": {}
        },
        {
          "output_type": "display_data",
          "data": {
            "text/plain": [
              "Button(button_style='info', description='🔎 แสดงข้อมูลโรค', style=ButtonStyle())"
            ],
            "application/vnd.jupyter.widget-view+json": {
              "version_major": 2,
              "version_minor": 0,
              "model_id": "e09dcb18c0164e86a185dc5c75cb2579"
            }
          },
          "metadata": {}
        },
        {
          "output_type": "display_data",
          "data": {
            "text/plain": [
              "SelectMultiple(description='เลือกโรคสำหรับ Report:', options=(), rows=4, style=DescriptionStyle(description_wi…"
            ],
            "application/vnd.jupyter.widget-view+json": {
              "version_major": 2,
              "version_minor": 0,
              "model_id": "42337be09dac4559857f55615e9b3ff8"
            }
          },
          "metadata": {}
        },
        {
          "output_type": "display_data",
          "data": {
            "text/plain": [
              "Button(button_style='success', description='📄 สร้างรายงาน PDF', style=ButtonStyle())"
            ],
            "application/vnd.jupyter.widget-view+json": {
              "version_major": 2,
              "version_minor": 0,
              "model_id": "bc0b835d0c8647a89d0b333dba99d116"
            }
          },
          "metadata": {}
        },
        {
          "output_type": "stream",
          "name": "stdout",
          "text": [
            "📸 Uploaded image saved as 'uploaded_image.png'\n"
          ]
        },
        {
          "output_type": "display_data",
          "data": {
            "image/jpeg": "[encoded data removed]",
            "text/plain": [
              "<IPython.core.display.Image object>"
            ]
          },
          "metadata": {}
        },
        {
          "output_type": "stream",
          "name": "stdout",
          "text": [
            "❌ โมเดลตรวจสอบภาพยังไม่ได้ถูกโหลด\n",
            "\n",
            "⚠️ ภาพไม่ผ่านเกณฑ์ (ความน่าจะเป็นใช้งานได้: 0.00). กรุณาถ่ายรูปใหม่.\n"
          ]
        }
      ]
    }
  ]
}
